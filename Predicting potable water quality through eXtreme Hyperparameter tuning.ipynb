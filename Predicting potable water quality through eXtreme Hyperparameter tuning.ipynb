{
 "cells": [
  {
   "cell_type": "markdown",
   "id": "c447f641",
   "metadata": {
    "id": "5537b649"
   },
   "source": [
    "### Applying Traditional Machine Learning Algorithm \n",
    "#### Md. Asifur Rahman Asif\n",
    "#### ID: 18.02.04.114"
   ]
  },
  {
   "cell_type": "code",
   "execution_count": 160,
   "id": "9c794a05",
   "metadata": {},
   "outputs": [],
   "source": [
    "import pandas as pd\n",
    "import numpy as np\n",
    "\n",
    "pd.options.display.max_columns = 100\n",
    "pd.options.display.max_rows = 100\n",
    "\n",
    "from sklearn.model_selection import train_test_split\n",
    "from sklearn.model_selection import cross_val_score\n",
    "\n",
    "from sklearn.linear_model import LogisticRegression\n",
    "from sklearn.tree import DecisionTreeClassifier\n",
    "from sklearn.ensemble import RandomForestClassifier\n",
    "from sklearn.neighbors import KNeighborsClassifier\n",
    "\n",
    "from sklearn.metrics import accuracy_score, classification_report, confusion_matrix\n",
    "from sklearn.metrics import roc_curve, roc_auc_score, precision_score, recall_score, f1_score\n",
    "#from sklearn.metrics import plot_confusion_matrix\n",
    "\n",
    "import matplotlib.pyplot as plt\n",
    "import seaborn as sns\n",
    "\n",
    "import warnings\n",
    "warnings.filterwarnings('ignore')"
   ]
  },
  {
   "cell_type": "markdown",
   "id": "c5aae4df",
   "metadata": {
    "id": "c5aae4df"
   },
   "source": [
    "#### Load data"
   ]
  },
  {
   "cell_type": "code",
   "execution_count": 161,
   "id": "eceeca45",
   "metadata": {
    "colab": {
     "base_uri": "https://localhost:8080/",
     "height": 427
    },
    "id": "eceeca45",
    "outputId": "f0294ac3-3122-4446-e882-cf671739ac27"
   },
   "outputs": [
    {
     "data": {
      "text/html": [
       "<div>\n",
       "<style scoped>\n",
       "    .dataframe tbody tr th:only-of-type {\n",
       "        vertical-align: middle;\n",
       "    }\n",
       "\n",
       "    .dataframe tbody tr th {\n",
       "        vertical-align: top;\n",
       "    }\n",
       "\n",
       "    .dataframe thead th {\n",
       "        text-align: right;\n",
       "    }\n",
       "</style>\n",
       "<table border=\"1\" class=\"dataframe\">\n",
       "  <thead>\n",
       "    <tr style=\"text-align: right;\">\n",
       "      <th></th>\n",
       "      <th>ph</th>\n",
       "      <th>Hardness</th>\n",
       "      <th>Solids</th>\n",
       "      <th>Chloramines</th>\n",
       "      <th>Sulfate</th>\n",
       "      <th>Conductivity</th>\n",
       "      <th>Organic_carbon</th>\n",
       "      <th>Trihalomethanes</th>\n",
       "      <th>Turbidity</th>\n",
       "      <th>Potability</th>\n",
       "    </tr>\n",
       "  </thead>\n",
       "  <tbody>\n",
       "    <tr>\n",
       "      <th>0</th>\n",
       "      <td>NaN</td>\n",
       "      <td>204.890455</td>\n",
       "      <td>20791.318981</td>\n",
       "      <td>7.300212</td>\n",
       "      <td>368.516441</td>\n",
       "      <td>564.308654</td>\n",
       "      <td>10.379783</td>\n",
       "      <td>86.990970</td>\n",
       "      <td>2.963135</td>\n",
       "      <td>0</td>\n",
       "    </tr>\n",
       "    <tr>\n",
       "      <th>1</th>\n",
       "      <td>3.716080</td>\n",
       "      <td>129.422921</td>\n",
       "      <td>18630.057858</td>\n",
       "      <td>6.635246</td>\n",
       "      <td>NaN</td>\n",
       "      <td>592.885359</td>\n",
       "      <td>15.180013</td>\n",
       "      <td>56.329076</td>\n",
       "      <td>4.500656</td>\n",
       "      <td>0</td>\n",
       "    </tr>\n",
       "    <tr>\n",
       "      <th>2</th>\n",
       "      <td>8.099124</td>\n",
       "      <td>224.236259</td>\n",
       "      <td>19909.541732</td>\n",
       "      <td>9.275884</td>\n",
       "      <td>NaN</td>\n",
       "      <td>418.606213</td>\n",
       "      <td>16.868637</td>\n",
       "      <td>66.420093</td>\n",
       "      <td>3.055934</td>\n",
       "      <td>0</td>\n",
       "    </tr>\n",
       "    <tr>\n",
       "      <th>3</th>\n",
       "      <td>8.316766</td>\n",
       "      <td>214.373394</td>\n",
       "      <td>22018.417441</td>\n",
       "      <td>8.059332</td>\n",
       "      <td>356.886136</td>\n",
       "      <td>363.266516</td>\n",
       "      <td>18.436524</td>\n",
       "      <td>100.341674</td>\n",
       "      <td>4.628771</td>\n",
       "      <td>0</td>\n",
       "    </tr>\n",
       "    <tr>\n",
       "      <th>4</th>\n",
       "      <td>9.092223</td>\n",
       "      <td>181.101509</td>\n",
       "      <td>17978.986339</td>\n",
       "      <td>6.546600</td>\n",
       "      <td>310.135738</td>\n",
       "      <td>398.410813</td>\n",
       "      <td>11.558279</td>\n",
       "      <td>31.997993</td>\n",
       "      <td>4.075075</td>\n",
       "      <td>0</td>\n",
       "    </tr>\n",
       "    <tr>\n",
       "      <th>5</th>\n",
       "      <td>5.584087</td>\n",
       "      <td>188.313324</td>\n",
       "      <td>28748.687739</td>\n",
       "      <td>7.544869</td>\n",
       "      <td>326.678363</td>\n",
       "      <td>280.467916</td>\n",
       "      <td>8.399735</td>\n",
       "      <td>54.917862</td>\n",
       "      <td>2.559708</td>\n",
       "      <td>0</td>\n",
       "    </tr>\n",
       "    <tr>\n",
       "      <th>6</th>\n",
       "      <td>10.223862</td>\n",
       "      <td>248.071735</td>\n",
       "      <td>28749.716544</td>\n",
       "      <td>7.513408</td>\n",
       "      <td>393.663396</td>\n",
       "      <td>283.651634</td>\n",
       "      <td>13.789695</td>\n",
       "      <td>84.603556</td>\n",
       "      <td>2.672989</td>\n",
       "      <td>0</td>\n",
       "    </tr>\n",
       "    <tr>\n",
       "      <th>7</th>\n",
       "      <td>8.635849</td>\n",
       "      <td>203.361523</td>\n",
       "      <td>13672.091764</td>\n",
       "      <td>4.563009</td>\n",
       "      <td>303.309771</td>\n",
       "      <td>474.607645</td>\n",
       "      <td>12.363817</td>\n",
       "      <td>62.798309</td>\n",
       "      <td>4.401425</td>\n",
       "      <td>0</td>\n",
       "    </tr>\n",
       "    <tr>\n",
       "      <th>8</th>\n",
       "      <td>NaN</td>\n",
       "      <td>118.988579</td>\n",
       "      <td>14285.583854</td>\n",
       "      <td>7.804174</td>\n",
       "      <td>268.646941</td>\n",
       "      <td>389.375566</td>\n",
       "      <td>12.706049</td>\n",
       "      <td>53.928846</td>\n",
       "      <td>3.595017</td>\n",
       "      <td>0</td>\n",
       "    </tr>\n",
       "    <tr>\n",
       "      <th>9</th>\n",
       "      <td>11.180284</td>\n",
       "      <td>227.231469</td>\n",
       "      <td>25484.508491</td>\n",
       "      <td>9.077200</td>\n",
       "      <td>404.041635</td>\n",
       "      <td>563.885481</td>\n",
       "      <td>17.927806</td>\n",
       "      <td>71.976601</td>\n",
       "      <td>4.370562</td>\n",
       "      <td>0</td>\n",
       "    </tr>\n",
       "  </tbody>\n",
       "</table>\n",
       "</div>"
      ],
      "text/plain": [
       "          ph    Hardness        Solids  Chloramines     Sulfate  Conductivity  \\\n",
       "0        NaN  204.890455  20791.318981     7.300212  368.516441    564.308654   \n",
       "1   3.716080  129.422921  18630.057858     6.635246         NaN    592.885359   \n",
       "2   8.099124  224.236259  19909.541732     9.275884         NaN    418.606213   \n",
       "3   8.316766  214.373394  22018.417441     8.059332  356.886136    363.266516   \n",
       "4   9.092223  181.101509  17978.986339     6.546600  310.135738    398.410813   \n",
       "5   5.584087  188.313324  28748.687739     7.544869  326.678363    280.467916   \n",
       "6  10.223862  248.071735  28749.716544     7.513408  393.663396    283.651634   \n",
       "7   8.635849  203.361523  13672.091764     4.563009  303.309771    474.607645   \n",
       "8        NaN  118.988579  14285.583854     7.804174  268.646941    389.375566   \n",
       "9  11.180284  227.231469  25484.508491     9.077200  404.041635    563.885481   \n",
       "\n",
       "   Organic_carbon  Trihalomethanes  Turbidity  Potability  \n",
       "0       10.379783        86.990970   2.963135           0  \n",
       "1       15.180013        56.329076   4.500656           0  \n",
       "2       16.868637        66.420093   3.055934           0  \n",
       "3       18.436524       100.341674   4.628771           0  \n",
       "4       11.558279        31.997993   4.075075           0  \n",
       "5        8.399735        54.917862   2.559708           0  \n",
       "6       13.789695        84.603556   2.672989           0  \n",
       "7       12.363817        62.798309   4.401425           0  \n",
       "8       12.706049        53.928846   3.595017           0  \n",
       "9       17.927806        71.976601   4.370562           0  "
      ]
     },
     "metadata": {},
     "output_type": "display_data"
    }
   ],
   "source": [
    "df = pd.read_csv(\"latest_water_potability.csv\")\n",
    "\n",
    "display(df.head(10))"
   ]
  },
  {
   "cell_type": "markdown",
   "id": "27473bb4",
   "metadata": {
    "id": "27473bb4"
   },
   "source": [
    "#### Data Preprocessing"
   ]
  },
  {
   "cell_type": "code",
   "execution_count": 162,
   "id": "0f04ef76",
   "metadata": {
    "colab": {
     "base_uri": "https://localhost:8080/"
    },
    "id": "0f04ef76",
    "outputId": "07f717cb-7927-4970-a6cf-85941854977c"
   },
   "outputs": [
    {
     "data": {
      "text/plain": [
       "ph                 491\n",
       "Hardness             0\n",
       "Solids               0\n",
       "Chloramines          0\n",
       "Sulfate            781\n",
       "Conductivity         0\n",
       "Organic_carbon       0\n",
       "Trihalomethanes    162\n",
       "Turbidity            0\n",
       "Potability           0\n",
       "dtype: int64"
      ]
     },
     "execution_count": 162,
     "metadata": {},
     "output_type": "execute_result"
    }
   ],
   "source": [
    "df.isnull().sum()"
   ]
  },
  {
   "cell_type": "code",
   "execution_count": 163,
   "id": "65144935",
   "metadata": {
    "id": "65144935"
   },
   "outputs": [],
   "source": [
    "df['ph'].fillna(df['ph'].median(), inplace=True)\n",
    "df['Sulfate'].fillna(df['Sulfate'].median(), inplace=True)\n",
    "df['Trihalomethanes'].fillna(df['Trihalomethanes'].median(), inplace=True)"
   ]
  },
  {
   "cell_type": "code",
   "execution_count": 164,
   "id": "257b93a2",
   "metadata": {},
   "outputs": [
    {
     "data": {
      "text/plain": [
       "ph                 0\n",
       "Hardness           0\n",
       "Solids             0\n",
       "Chloramines        0\n",
       "Sulfate            0\n",
       "Conductivity       0\n",
       "Organic_carbon     0\n",
       "Trihalomethanes    0\n",
       "Turbidity          0\n",
       "Potability         0\n",
       "dtype: int64"
      ]
     },
     "execution_count": 164,
     "metadata": {},
     "output_type": "execute_result"
    }
   ],
   "source": [
    "df.isnull().sum()"
   ]
  },
  {
   "cell_type": "code",
   "execution_count": 165,
   "id": "aa17fbb9",
   "metadata": {
    "id": "aa17fbb9",
    "outputId": "67ec5b99-1905-4c3e-d22c-e19416a2612a"
   },
   "outputs": [
    {
     "name": "stdout",
     "output_type": "stream",
     "text": [
      "<class 'pandas.core.frame.DataFrame'>\n",
      "RangeIndex: 3276 entries, 0 to 3275\n",
      "Data columns (total 10 columns):\n",
      " #   Column           Non-Null Count  Dtype  \n",
      "---  ------           --------------  -----  \n",
      " 0   ph               3276 non-null   float64\n",
      " 1   Hardness         3276 non-null   float64\n",
      " 2   Solids           3276 non-null   float64\n",
      " 3   Chloramines      3276 non-null   float64\n",
      " 4   Sulfate          3276 non-null   float64\n",
      " 5   Conductivity     3276 non-null   float64\n",
      " 6   Organic_carbon   3276 non-null   float64\n",
      " 7   Trihalomethanes  3276 non-null   float64\n",
      " 8   Turbidity        3276 non-null   float64\n",
      " 9   Potability       3276 non-null   int64  \n",
      "dtypes: float64(9), int64(1)\n",
      "memory usage: 256.1 KB\n"
     ]
    }
   ],
   "source": [
    "df.info()"
   ]
  },
  {
   "cell_type": "markdown",
   "id": "d54f96f4",
   "metadata": {},
   "source": [
    "#### Random Oversampling Imbalanced Datasets"
   ]
  },
  {
   "cell_type": "code",
   "execution_count": 166,
   "id": "5c2e7a2b",
   "metadata": {},
   "outputs": [
    {
     "data": {
      "text/plain": [
       "0    1998\n",
       "1    1278\n",
       "Name: Potability, dtype: int64"
      ]
     },
     "execution_count": 166,
     "metadata": {},
     "output_type": "execute_result"
    }
   ],
   "source": [
    "df['Potability'].value_counts()"
   ]
  },
  {
   "cell_type": "code",
   "execution_count": 167,
   "id": "591e6c6c",
   "metadata": {},
   "outputs": [
    {
     "data": {
      "text/html": [
       "<div>\n",
       "<style scoped>\n",
       "    .dataframe tbody tr th:only-of-type {\n",
       "        vertical-align: middle;\n",
       "    }\n",
       "\n",
       "    .dataframe tbody tr th {\n",
       "        vertical-align: top;\n",
       "    }\n",
       "\n",
       "    .dataframe thead th {\n",
       "        text-align: right;\n",
       "    }\n",
       "</style>\n",
       "<table border=\"1\" class=\"dataframe\">\n",
       "  <thead>\n",
       "    <tr style=\"text-align: right;\">\n",
       "      <th></th>\n",
       "      <th>ph</th>\n",
       "      <th>Hardness</th>\n",
       "      <th>Solids</th>\n",
       "      <th>Chloramines</th>\n",
       "      <th>Sulfate</th>\n",
       "      <th>Conductivity</th>\n",
       "      <th>Organic_carbon</th>\n",
       "      <th>Trihalomethanes</th>\n",
       "      <th>Turbidity</th>\n",
       "      <th>Potability</th>\n",
       "    </tr>\n",
       "  </thead>\n",
       "  <tbody>\n",
       "    <tr>\n",
       "      <th>0</th>\n",
       "      <td>7.036752</td>\n",
       "      <td>204.890455</td>\n",
       "      <td>20791.318981</td>\n",
       "      <td>7.300212</td>\n",
       "      <td>368.516441</td>\n",
       "      <td>564.308654</td>\n",
       "      <td>10.379783</td>\n",
       "      <td>86.990970</td>\n",
       "      <td>2.963135</td>\n",
       "      <td>0</td>\n",
       "    </tr>\n",
       "    <tr>\n",
       "      <th>1</th>\n",
       "      <td>3.716080</td>\n",
       "      <td>129.422921</td>\n",
       "      <td>18630.057858</td>\n",
       "      <td>6.635246</td>\n",
       "      <td>333.073546</td>\n",
       "      <td>592.885359</td>\n",
       "      <td>15.180013</td>\n",
       "      <td>56.329076</td>\n",
       "      <td>4.500656</td>\n",
       "      <td>0</td>\n",
       "    </tr>\n",
       "    <tr>\n",
       "      <th>2</th>\n",
       "      <td>8.099124</td>\n",
       "      <td>224.236259</td>\n",
       "      <td>19909.541732</td>\n",
       "      <td>9.275884</td>\n",
       "      <td>333.073546</td>\n",
       "      <td>418.606213</td>\n",
       "      <td>16.868637</td>\n",
       "      <td>66.420093</td>\n",
       "      <td>3.055934</td>\n",
       "      <td>0</td>\n",
       "    </tr>\n",
       "    <tr>\n",
       "      <th>3</th>\n",
       "      <td>8.316766</td>\n",
       "      <td>214.373394</td>\n",
       "      <td>22018.417441</td>\n",
       "      <td>8.059332</td>\n",
       "      <td>356.886136</td>\n",
       "      <td>363.266516</td>\n",
       "      <td>18.436524</td>\n",
       "      <td>100.341674</td>\n",
       "      <td>4.628771</td>\n",
       "      <td>0</td>\n",
       "    </tr>\n",
       "    <tr>\n",
       "      <th>4</th>\n",
       "      <td>9.092223</td>\n",
       "      <td>181.101509</td>\n",
       "      <td>17978.986339</td>\n",
       "      <td>6.546600</td>\n",
       "      <td>310.135738</td>\n",
       "      <td>398.410813</td>\n",
       "      <td>11.558279</td>\n",
       "      <td>31.997993</td>\n",
       "      <td>4.075075</td>\n",
       "      <td>0</td>\n",
       "    </tr>\n",
       "    <tr>\n",
       "      <th>...</th>\n",
       "      <td>...</td>\n",
       "      <td>...</td>\n",
       "      <td>...</td>\n",
       "      <td>...</td>\n",
       "      <td>...</td>\n",
       "      <td>...</td>\n",
       "      <td>...</td>\n",
       "      <td>...</td>\n",
       "      <td>...</td>\n",
       "      <td>...</td>\n",
       "    </tr>\n",
       "    <tr>\n",
       "      <th>3271</th>\n",
       "      <td>4.668102</td>\n",
       "      <td>193.681735</td>\n",
       "      <td>47580.991603</td>\n",
       "      <td>7.166639</td>\n",
       "      <td>359.948574</td>\n",
       "      <td>526.424171</td>\n",
       "      <td>13.894419</td>\n",
       "      <td>66.687695</td>\n",
       "      <td>4.435821</td>\n",
       "      <td>1</td>\n",
       "    </tr>\n",
       "    <tr>\n",
       "      <th>3272</th>\n",
       "      <td>7.808856</td>\n",
       "      <td>193.553212</td>\n",
       "      <td>17329.802160</td>\n",
       "      <td>8.061362</td>\n",
       "      <td>333.073546</td>\n",
       "      <td>392.449580</td>\n",
       "      <td>19.903225</td>\n",
       "      <td>66.622485</td>\n",
       "      <td>2.798243</td>\n",
       "      <td>1</td>\n",
       "    </tr>\n",
       "    <tr>\n",
       "      <th>3273</th>\n",
       "      <td>9.419510</td>\n",
       "      <td>175.762646</td>\n",
       "      <td>33155.578218</td>\n",
       "      <td>7.350233</td>\n",
       "      <td>333.073546</td>\n",
       "      <td>432.044783</td>\n",
       "      <td>11.039070</td>\n",
       "      <td>69.845400</td>\n",
       "      <td>3.298875</td>\n",
       "      <td>1</td>\n",
       "    </tr>\n",
       "    <tr>\n",
       "      <th>3274</th>\n",
       "      <td>5.126763</td>\n",
       "      <td>230.603758</td>\n",
       "      <td>11983.869376</td>\n",
       "      <td>6.303357</td>\n",
       "      <td>333.073546</td>\n",
       "      <td>402.883113</td>\n",
       "      <td>11.168946</td>\n",
       "      <td>77.488213</td>\n",
       "      <td>4.708658</td>\n",
       "      <td>1</td>\n",
       "    </tr>\n",
       "    <tr>\n",
       "      <th>3275</th>\n",
       "      <td>7.874671</td>\n",
       "      <td>195.102299</td>\n",
       "      <td>17404.177061</td>\n",
       "      <td>7.509306</td>\n",
       "      <td>333.073546</td>\n",
       "      <td>327.459760</td>\n",
       "      <td>16.140368</td>\n",
       "      <td>78.698446</td>\n",
       "      <td>2.309149</td>\n",
       "      <td>1</td>\n",
       "    </tr>\n",
       "  </tbody>\n",
       "</table>\n",
       "<p>3276 rows × 10 columns</p>\n",
       "</div>"
      ],
      "text/plain": [
       "            ph    Hardness        Solids  Chloramines     Sulfate  \\\n",
       "0     7.036752  204.890455  20791.318981     7.300212  368.516441   \n",
       "1     3.716080  129.422921  18630.057858     6.635246  333.073546   \n",
       "2     8.099124  224.236259  19909.541732     9.275884  333.073546   \n",
       "3     8.316766  214.373394  22018.417441     8.059332  356.886136   \n",
       "4     9.092223  181.101509  17978.986339     6.546600  310.135738   \n",
       "...        ...         ...           ...          ...         ...   \n",
       "3271  4.668102  193.681735  47580.991603     7.166639  359.948574   \n",
       "3272  7.808856  193.553212  17329.802160     8.061362  333.073546   \n",
       "3273  9.419510  175.762646  33155.578218     7.350233  333.073546   \n",
       "3274  5.126763  230.603758  11983.869376     6.303357  333.073546   \n",
       "3275  7.874671  195.102299  17404.177061     7.509306  333.073546   \n",
       "\n",
       "      Conductivity  Organic_carbon  Trihalomethanes  Turbidity  Potability  \n",
       "0       564.308654       10.379783        86.990970   2.963135           0  \n",
       "1       592.885359       15.180013        56.329076   4.500656           0  \n",
       "2       418.606213       16.868637        66.420093   3.055934           0  \n",
       "3       363.266516       18.436524       100.341674   4.628771           0  \n",
       "4       398.410813       11.558279        31.997993   4.075075           0  \n",
       "...            ...             ...              ...        ...         ...  \n",
       "3271    526.424171       13.894419        66.687695   4.435821           1  \n",
       "3272    392.449580       19.903225        66.622485   2.798243           1  \n",
       "3273    432.044783       11.039070        69.845400   3.298875           1  \n",
       "3274    402.883113       11.168946        77.488213   4.708658           1  \n",
       "3275    327.459760       16.140368        78.698446   2.309149           1  \n",
       "\n",
       "[3276 rows x 10 columns]"
      ]
     },
     "execution_count": 167,
     "metadata": {},
     "output_type": "execute_result"
    }
   ],
   "source": [
    "df"
   ]
  },
  {
   "cell_type": "markdown",
   "id": "2deed8cf",
   "metadata": {
    "id": "2deed8cf"
   },
   "source": [
    "#### Standardization"
   ]
  },
  {
   "cell_type": "code",
   "execution_count": 168,
   "id": "fb3489bb",
   "metadata": {
    "id": "fb3489bb"
   },
   "outputs": [],
   "source": [
    "from sklearn.preprocessing import StandardScaler"
   ]
  },
  {
   "cell_type": "code",
   "execution_count": 169,
   "id": "78b306aa",
   "metadata": {
    "id": "78b306aa"
   },
   "outputs": [],
   "source": [
    "scaler = StandardScaler()"
   ]
  },
  {
   "cell_type": "code",
   "execution_count": 170,
   "id": "17b82187",
   "metadata": {
    "colab": {
     "base_uri": "https://localhost:8080/"
    },
    "id": "17b82187",
    "outputId": "71892fa7-96dd-4a23-fb17-d99d047fea6c"
   },
   "outputs": [
    {
     "data": {
      "text/html": [
       "<style>#sk-container-id-8 {color: black;background-color: white;}#sk-container-id-8 pre{padding: 0;}#sk-container-id-8 div.sk-toggleable {background-color: white;}#sk-container-id-8 label.sk-toggleable__label {cursor: pointer;display: block;width: 100%;margin-bottom: 0;padding: 0.3em;box-sizing: border-box;text-align: center;}#sk-container-id-8 label.sk-toggleable__label-arrow:before {content: \"▸\";float: left;margin-right: 0.25em;color: #696969;}#sk-container-id-8 label.sk-toggleable__label-arrow:hover:before {color: black;}#sk-container-id-8 div.sk-estimator:hover label.sk-toggleable__label-arrow:before {color: black;}#sk-container-id-8 div.sk-toggleable__content {max-height: 0;max-width: 0;overflow: hidden;text-align: left;background-color: #f0f8ff;}#sk-container-id-8 div.sk-toggleable__content pre {margin: 0.2em;color: black;border-radius: 0.25em;background-color: #f0f8ff;}#sk-container-id-8 input.sk-toggleable__control:checked~div.sk-toggleable__content {max-height: 200px;max-width: 100%;overflow: auto;}#sk-container-id-8 input.sk-toggleable__control:checked~label.sk-toggleable__label-arrow:before {content: \"▾\";}#sk-container-id-8 div.sk-estimator input.sk-toggleable__control:checked~label.sk-toggleable__label {background-color: #d4ebff;}#sk-container-id-8 div.sk-label input.sk-toggleable__control:checked~label.sk-toggleable__label {background-color: #d4ebff;}#sk-container-id-8 input.sk-hidden--visually {border: 0;clip: rect(1px 1px 1px 1px);clip: rect(1px, 1px, 1px, 1px);height: 1px;margin: -1px;overflow: hidden;padding: 0;position: absolute;width: 1px;}#sk-container-id-8 div.sk-estimator {font-family: monospace;background-color: #f0f8ff;border: 1px dotted black;border-radius: 0.25em;box-sizing: border-box;margin-bottom: 0.5em;}#sk-container-id-8 div.sk-estimator:hover {background-color: #d4ebff;}#sk-container-id-8 div.sk-parallel-item::after {content: \"\";width: 100%;border-bottom: 1px solid gray;flex-grow: 1;}#sk-container-id-8 div.sk-label:hover label.sk-toggleable__label {background-color: #d4ebff;}#sk-container-id-8 div.sk-serial::before {content: \"\";position: absolute;border-left: 1px solid gray;box-sizing: border-box;top: 0;bottom: 0;left: 50%;z-index: 0;}#sk-container-id-8 div.sk-serial {display: flex;flex-direction: column;align-items: center;background-color: white;padding-right: 0.2em;padding-left: 0.2em;position: relative;}#sk-container-id-8 div.sk-item {position: relative;z-index: 1;}#sk-container-id-8 div.sk-parallel {display: flex;align-items: stretch;justify-content: center;background-color: white;position: relative;}#sk-container-id-8 div.sk-item::before, #sk-container-id-8 div.sk-parallel-item::before {content: \"\";position: absolute;border-left: 1px solid gray;box-sizing: border-box;top: 0;bottom: 0;left: 50%;z-index: -1;}#sk-container-id-8 div.sk-parallel-item {display: flex;flex-direction: column;z-index: 1;position: relative;background-color: white;}#sk-container-id-8 div.sk-parallel-item:first-child::after {align-self: flex-end;width: 50%;}#sk-container-id-8 div.sk-parallel-item:last-child::after {align-self: flex-start;width: 50%;}#sk-container-id-8 div.sk-parallel-item:only-child::after {width: 0;}#sk-container-id-8 div.sk-dashed-wrapped {border: 1px dashed gray;margin: 0 0.4em 0.5em 0.4em;box-sizing: border-box;padding-bottom: 0.4em;background-color: white;}#sk-container-id-8 div.sk-label label {font-family: monospace;font-weight: bold;display: inline-block;line-height: 1.2em;}#sk-container-id-8 div.sk-label-container {text-align: center;}#sk-container-id-8 div.sk-container {/* jupyter's `normalize.less` sets `[hidden] { display: none; }` but bootstrap.min.css set `[hidden] { display: none !important; }` so we also need the `!important` here to be able to override the default hidden behavior on the sphinx rendered scikit-learn.org. See: https://github.com/scikit-learn/scikit-learn/issues/21755 */display: inline-block !important;position: relative;}#sk-container-id-8 div.sk-text-repr-fallback {display: none;}</style><div id=\"sk-container-id-8\" class=\"sk-top-container\"><div class=\"sk-text-repr-fallback\"><pre>StandardScaler()</pre><b>In a Jupyter environment, please rerun this cell to show the HTML representation or trust the notebook. <br />On GitHub, the HTML representation is unable to render, please try loading this page with nbviewer.org.</b></div><div class=\"sk-container\" hidden><div class=\"sk-item\"><div class=\"sk-estimator sk-toggleable\"><input class=\"sk-toggleable__control sk-hidden--visually\" id=\"sk-estimator-id-8\" type=\"checkbox\" checked><label for=\"sk-estimator-id-8\" class=\"sk-toggleable__label sk-toggleable__label-arrow\">StandardScaler</label><div class=\"sk-toggleable__content\"><pre>StandardScaler()</pre></div></div></div></div></div>"
      ],
      "text/plain": [
       "StandardScaler()"
      ]
     },
     "execution_count": 170,
     "metadata": {},
     "output_type": "execute_result"
    }
   ],
   "source": [
    "scaler.fit(df.drop('Potability', axis=1))"
   ]
  },
  {
   "cell_type": "code",
   "execution_count": 171,
   "id": "19dff852",
   "metadata": {
    "id": "19dff852"
   },
   "outputs": [],
   "source": [
    "scaled_features =scaler.transform(df.drop('Potability', axis=1))"
   ]
  },
  {
   "cell_type": "code",
   "execution_count": 172,
   "id": "d63cc8c7",
   "metadata": {
    "colab": {
     "base_uri": "https://localhost:8080/"
    },
    "id": "d63cc8c7",
    "outputId": "feb7547d-f330-45e0-da11-5fdbc1498fe5"
   },
   "outputs": [
    {
     "data": {
      "text/plain": [
       "array([[-2.54735465e-02,  2.59194711e-01, -1.39470871e-01, ...,\n",
       "        -1.18065057e+00,  1.30543373e+00, -1.28629758e+00],\n",
       "       [-2.28471739e+00, -2.03641367e+00, -3.85986650e-01, ...,\n",
       "         2.70597240e-01, -6.39186284e-01,  6.84217891e-01],\n",
       "       [ 6.97319183e-01,  8.47664833e-01, -2.40047337e-01, ...,\n",
       "         7.81116857e-01,  8.00012586e-04, -1.16736546e+00],\n",
       "       ...,\n",
       "       [ 1.59565368e+00, -6.26829230e-01,  1.27080989e+00, ...,\n",
       "        -9.81329234e-01,  2.18037800e-01, -8.56006782e-01],\n",
       "       [-1.32494885e+00,  1.04135450e+00, -1.14405809e+00, ...,\n",
       "        -9.42063817e-01,  7.02755628e-01,  9.50797383e-01],\n",
       "       [ 5.44611034e-01, -3.85462310e-02, -5.25811937e-01, ...,\n",
       "         5.60940070e-01,  7.79510303e-01, -2.12445866e+00]])"
      ]
     },
     "execution_count": 172,
     "metadata": {},
     "output_type": "execute_result"
    }
   ],
   "source": [
    "scaled_features"
   ]
  },
  {
   "cell_type": "code",
   "execution_count": 173,
   "id": "f3158c46",
   "metadata": {},
   "outputs": [],
   "source": [
    "df_feat = pd.DataFrame(scaled_features, columns=df.columns[:-1])"
   ]
  },
  {
   "cell_type": "code",
   "execution_count": 174,
   "id": "3e1af219",
   "metadata": {},
   "outputs": [],
   "source": [
    "df_feat = pd.concat([pd.DataFrame(df_feat), pd.DataFrame(df['Potability'])], axis=1)"
   ]
  },
  {
   "cell_type": "code",
   "execution_count": 175,
   "id": "4f2cf522",
   "metadata": {},
   "outputs": [
    {
     "data": {
      "text/html": [
       "<div>\n",
       "<style scoped>\n",
       "    .dataframe tbody tr th:only-of-type {\n",
       "        vertical-align: middle;\n",
       "    }\n",
       "\n",
       "    .dataframe tbody tr th {\n",
       "        vertical-align: top;\n",
       "    }\n",
       "\n",
       "    .dataframe thead th {\n",
       "        text-align: right;\n",
       "    }\n",
       "</style>\n",
       "<table border=\"1\" class=\"dataframe\">\n",
       "  <thead>\n",
       "    <tr style=\"text-align: right;\">\n",
       "      <th></th>\n",
       "      <th>ph</th>\n",
       "      <th>Hardness</th>\n",
       "      <th>Solids</th>\n",
       "      <th>Chloramines</th>\n",
       "      <th>Sulfate</th>\n",
       "      <th>Conductivity</th>\n",
       "      <th>Organic_carbon</th>\n",
       "      <th>Trihalomethanes</th>\n",
       "      <th>Turbidity</th>\n",
       "      <th>Potability</th>\n",
       "    </tr>\n",
       "  </thead>\n",
       "  <tbody>\n",
       "    <tr>\n",
       "      <th>0</th>\n",
       "      <td>-0.025474</td>\n",
       "      <td>0.259195</td>\n",
       "      <td>-0.139471</td>\n",
       "      <td>0.112415</td>\n",
       "      <td>0.965957</td>\n",
       "      <td>1.708954</td>\n",
       "      <td>-1.180651</td>\n",
       "      <td>1.305434</td>\n",
       "      <td>-1.286298</td>\n",
       "      <td>0</td>\n",
       "    </tr>\n",
       "    <tr>\n",
       "      <th>1</th>\n",
       "      <td>-2.284717</td>\n",
       "      <td>-2.036414</td>\n",
       "      <td>-0.385987</td>\n",
       "      <td>-0.307694</td>\n",
       "      <td>-0.014799</td>\n",
       "      <td>2.062575</td>\n",
       "      <td>0.270597</td>\n",
       "      <td>-0.639186</td>\n",
       "      <td>0.684218</td>\n",
       "      <td>0</td>\n",
       "    </tr>\n",
       "    <tr>\n",
       "      <th>2</th>\n",
       "      <td>0.697319</td>\n",
       "      <td>0.847665</td>\n",
       "      <td>-0.240047</td>\n",
       "      <td>1.360594</td>\n",
       "      <td>-0.014799</td>\n",
       "      <td>-0.094032</td>\n",
       "      <td>0.781117</td>\n",
       "      <td>0.000800</td>\n",
       "      <td>-1.167365</td>\n",
       "      <td>0</td>\n",
       "    </tr>\n",
       "    <tr>\n",
       "      <th>3</th>\n",
       "      <td>0.845393</td>\n",
       "      <td>0.547651</td>\n",
       "      <td>0.000493</td>\n",
       "      <td>0.592008</td>\n",
       "      <td>0.644130</td>\n",
       "      <td>-0.778830</td>\n",
       "      <td>1.255134</td>\n",
       "      <td>2.152154</td>\n",
       "      <td>0.848412</td>\n",
       "      <td>0</td>\n",
       "    </tr>\n",
       "    <tr>\n",
       "      <th>4</th>\n",
       "      <td>1.372982</td>\n",
       "      <td>-0.464429</td>\n",
       "      <td>-0.460249</td>\n",
       "      <td>-0.363698</td>\n",
       "      <td>-0.649522</td>\n",
       "      <td>-0.343939</td>\n",
       "      <td>-0.824357</td>\n",
       "      <td>-2.182297</td>\n",
       "      <td>0.138786</td>\n",
       "      <td>0</td>\n",
       "    </tr>\n",
       "    <tr>\n",
       "      <th>...</th>\n",
       "      <td>...</td>\n",
       "      <td>...</td>\n",
       "      <td>...</td>\n",
       "      <td>...</td>\n",
       "      <td>...</td>\n",
       "      <td>...</td>\n",
       "      <td>...</td>\n",
       "      <td>...</td>\n",
       "      <td>...</td>\n",
       "      <td>...</td>\n",
       "    </tr>\n",
       "    <tr>\n",
       "      <th>3271</th>\n",
       "      <td>-1.637002</td>\n",
       "      <td>-0.081758</td>\n",
       "      <td>2.916188</td>\n",
       "      <td>0.028027</td>\n",
       "      <td>0.728872</td>\n",
       "      <td>1.240155</td>\n",
       "      <td>-0.118075</td>\n",
       "      <td>0.017772</td>\n",
       "      <td>0.601124</td>\n",
       "      <td>1</td>\n",
       "    </tr>\n",
       "    <tr>\n",
       "      <th>3272</th>\n",
       "      <td>0.499833</td>\n",
       "      <td>-0.085667</td>\n",
       "      <td>-0.534295</td>\n",
       "      <td>0.593290</td>\n",
       "      <td>-0.014799</td>\n",
       "      <td>-0.417706</td>\n",
       "      <td>1.698560</td>\n",
       "      <td>0.013636</td>\n",
       "      <td>-1.497627</td>\n",
       "      <td>1</td>\n",
       "    </tr>\n",
       "    <tr>\n",
       "      <th>3273</th>\n",
       "      <td>1.595654</td>\n",
       "      <td>-0.626829</td>\n",
       "      <td>1.270810</td>\n",
       "      <td>0.144017</td>\n",
       "      <td>-0.014799</td>\n",
       "      <td>0.072263</td>\n",
       "      <td>-0.981329</td>\n",
       "      <td>0.218038</td>\n",
       "      <td>-0.856007</td>\n",
       "      <td>1</td>\n",
       "    </tr>\n",
       "    <tr>\n",
       "      <th>3274</th>\n",
       "      <td>-1.324949</td>\n",
       "      <td>1.041355</td>\n",
       "      <td>-1.144058</td>\n",
       "      <td>-0.517373</td>\n",
       "      <td>-0.014799</td>\n",
       "      <td>-0.288597</td>\n",
       "      <td>-0.942064</td>\n",
       "      <td>0.702756</td>\n",
       "      <td>0.950797</td>\n",
       "      <td>1</td>\n",
       "    </tr>\n",
       "    <tr>\n",
       "      <th>3275</th>\n",
       "      <td>0.544611</td>\n",
       "      <td>-0.038546</td>\n",
       "      <td>-0.525812</td>\n",
       "      <td>0.244515</td>\n",
       "      <td>-0.014799</td>\n",
       "      <td>-1.221919</td>\n",
       "      <td>0.560940</td>\n",
       "      <td>0.779510</td>\n",
       "      <td>-2.124459</td>\n",
       "      <td>1</td>\n",
       "    </tr>\n",
       "  </tbody>\n",
       "</table>\n",
       "<p>3276 rows × 10 columns</p>\n",
       "</div>"
      ],
      "text/plain": [
       "            ph  Hardness    Solids  Chloramines   Sulfate  Conductivity  \\\n",
       "0    -0.025474  0.259195 -0.139471     0.112415  0.965957      1.708954   \n",
       "1    -2.284717 -2.036414 -0.385987    -0.307694 -0.014799      2.062575   \n",
       "2     0.697319  0.847665 -0.240047     1.360594 -0.014799     -0.094032   \n",
       "3     0.845393  0.547651  0.000493     0.592008  0.644130     -0.778830   \n",
       "4     1.372982 -0.464429 -0.460249    -0.363698 -0.649522     -0.343939   \n",
       "...        ...       ...       ...          ...       ...           ...   \n",
       "3271 -1.637002 -0.081758  2.916188     0.028027  0.728872      1.240155   \n",
       "3272  0.499833 -0.085667 -0.534295     0.593290 -0.014799     -0.417706   \n",
       "3273  1.595654 -0.626829  1.270810     0.144017 -0.014799      0.072263   \n",
       "3274 -1.324949  1.041355 -1.144058    -0.517373 -0.014799     -0.288597   \n",
       "3275  0.544611 -0.038546 -0.525812     0.244515 -0.014799     -1.221919   \n",
       "\n",
       "      Organic_carbon  Trihalomethanes  Turbidity  Potability  \n",
       "0          -1.180651         1.305434  -1.286298           0  \n",
       "1           0.270597        -0.639186   0.684218           0  \n",
       "2           0.781117         0.000800  -1.167365           0  \n",
       "3           1.255134         2.152154   0.848412           0  \n",
       "4          -0.824357        -2.182297   0.138786           0  \n",
       "...              ...              ...        ...         ...  \n",
       "3271       -0.118075         0.017772   0.601124           1  \n",
       "3272        1.698560         0.013636  -1.497627           1  \n",
       "3273       -0.981329         0.218038  -0.856007           1  \n",
       "3274       -0.942064         0.702756   0.950797           1  \n",
       "3275        0.560940         0.779510  -2.124459           1  \n",
       "\n",
       "[3276 rows x 10 columns]"
      ]
     },
     "execution_count": 175,
     "metadata": {},
     "output_type": "execute_result"
    }
   ],
   "source": [
    "df_feat"
   ]
  },
  {
   "cell_type": "code",
   "execution_count": 176,
   "id": "4d72904e",
   "metadata": {},
   "outputs": [
    {
     "data": {
      "text/html": [
       "<div>\n",
       "<style scoped>\n",
       "    .dataframe tbody tr th:only-of-type {\n",
       "        vertical-align: middle;\n",
       "    }\n",
       "\n",
       "    .dataframe tbody tr th {\n",
       "        vertical-align: top;\n",
       "    }\n",
       "\n",
       "    .dataframe thead th {\n",
       "        text-align: right;\n",
       "    }\n",
       "</style>\n",
       "<table border=\"1\" class=\"dataframe\">\n",
       "  <thead>\n",
       "    <tr style=\"text-align: right;\">\n",
       "      <th></th>\n",
       "      <th>ph</th>\n",
       "      <th>Hardness</th>\n",
       "      <th>Solids</th>\n",
       "      <th>Chloramines</th>\n",
       "      <th>Sulfate</th>\n",
       "      <th>Conductivity</th>\n",
       "      <th>Organic_carbon</th>\n",
       "      <th>Trihalomethanes</th>\n",
       "      <th>Turbidity</th>\n",
       "      <th>Potability</th>\n",
       "    </tr>\n",
       "  </thead>\n",
       "  <tbody>\n",
       "    <tr>\n",
       "      <th>0</th>\n",
       "      <td>-0.025474</td>\n",
       "      <td>0.259195</td>\n",
       "      <td>-0.139471</td>\n",
       "      <td>0.112415</td>\n",
       "      <td>0.965957</td>\n",
       "      <td>1.708954</td>\n",
       "      <td>-1.180651</td>\n",
       "      <td>1.305434</td>\n",
       "      <td>-1.286298</td>\n",
       "      <td>0</td>\n",
       "    </tr>\n",
       "    <tr>\n",
       "      <th>1</th>\n",
       "      <td>-2.284717</td>\n",
       "      <td>-2.036414</td>\n",
       "      <td>-0.385987</td>\n",
       "      <td>-0.307694</td>\n",
       "      <td>-0.014799</td>\n",
       "      <td>2.062575</td>\n",
       "      <td>0.270597</td>\n",
       "      <td>-0.639186</td>\n",
       "      <td>0.684218</td>\n",
       "      <td>0</td>\n",
       "    </tr>\n",
       "    <tr>\n",
       "      <th>2</th>\n",
       "      <td>0.697319</td>\n",
       "      <td>0.847665</td>\n",
       "      <td>-0.240047</td>\n",
       "      <td>1.360594</td>\n",
       "      <td>-0.014799</td>\n",
       "      <td>-0.094032</td>\n",
       "      <td>0.781117</td>\n",
       "      <td>0.000800</td>\n",
       "      <td>-1.167365</td>\n",
       "      <td>0</td>\n",
       "    </tr>\n",
       "    <tr>\n",
       "      <th>3</th>\n",
       "      <td>0.845393</td>\n",
       "      <td>0.547651</td>\n",
       "      <td>0.000493</td>\n",
       "      <td>0.592008</td>\n",
       "      <td>0.644130</td>\n",
       "      <td>-0.778830</td>\n",
       "      <td>1.255134</td>\n",
       "      <td>2.152154</td>\n",
       "      <td>0.848412</td>\n",
       "      <td>0</td>\n",
       "    </tr>\n",
       "    <tr>\n",
       "      <th>4</th>\n",
       "      <td>1.372982</td>\n",
       "      <td>-0.464429</td>\n",
       "      <td>-0.460249</td>\n",
       "      <td>-0.363698</td>\n",
       "      <td>-0.649522</td>\n",
       "      <td>-0.343939</td>\n",
       "      <td>-0.824357</td>\n",
       "      <td>-2.182297</td>\n",
       "      <td>0.138786</td>\n",
       "      <td>0</td>\n",
       "    </tr>\n",
       "    <tr>\n",
       "      <th>...</th>\n",
       "      <td>...</td>\n",
       "      <td>...</td>\n",
       "      <td>...</td>\n",
       "      <td>...</td>\n",
       "      <td>...</td>\n",
       "      <td>...</td>\n",
       "      <td>...</td>\n",
       "      <td>...</td>\n",
       "      <td>...</td>\n",
       "      <td>...</td>\n",
       "    </tr>\n",
       "    <tr>\n",
       "      <th>3271</th>\n",
       "      <td>-1.637002</td>\n",
       "      <td>-0.081758</td>\n",
       "      <td>2.916188</td>\n",
       "      <td>0.028027</td>\n",
       "      <td>0.728872</td>\n",
       "      <td>1.240155</td>\n",
       "      <td>-0.118075</td>\n",
       "      <td>0.017772</td>\n",
       "      <td>0.601124</td>\n",
       "      <td>1</td>\n",
       "    </tr>\n",
       "    <tr>\n",
       "      <th>3272</th>\n",
       "      <td>0.499833</td>\n",
       "      <td>-0.085667</td>\n",
       "      <td>-0.534295</td>\n",
       "      <td>0.593290</td>\n",
       "      <td>-0.014799</td>\n",
       "      <td>-0.417706</td>\n",
       "      <td>1.698560</td>\n",
       "      <td>0.013636</td>\n",
       "      <td>-1.497627</td>\n",
       "      <td>1</td>\n",
       "    </tr>\n",
       "    <tr>\n",
       "      <th>3273</th>\n",
       "      <td>1.595654</td>\n",
       "      <td>-0.626829</td>\n",
       "      <td>1.270810</td>\n",
       "      <td>0.144017</td>\n",
       "      <td>-0.014799</td>\n",
       "      <td>0.072263</td>\n",
       "      <td>-0.981329</td>\n",
       "      <td>0.218038</td>\n",
       "      <td>-0.856007</td>\n",
       "      <td>1</td>\n",
       "    </tr>\n",
       "    <tr>\n",
       "      <th>3274</th>\n",
       "      <td>-1.324949</td>\n",
       "      <td>1.041355</td>\n",
       "      <td>-1.144058</td>\n",
       "      <td>-0.517373</td>\n",
       "      <td>-0.014799</td>\n",
       "      <td>-0.288597</td>\n",
       "      <td>-0.942064</td>\n",
       "      <td>0.702756</td>\n",
       "      <td>0.950797</td>\n",
       "      <td>1</td>\n",
       "    </tr>\n",
       "    <tr>\n",
       "      <th>3275</th>\n",
       "      <td>0.544611</td>\n",
       "      <td>-0.038546</td>\n",
       "      <td>-0.525812</td>\n",
       "      <td>0.244515</td>\n",
       "      <td>-0.014799</td>\n",
       "      <td>-1.221919</td>\n",
       "      <td>0.560940</td>\n",
       "      <td>0.779510</td>\n",
       "      <td>-2.124459</td>\n",
       "      <td>1</td>\n",
       "    </tr>\n",
       "  </tbody>\n",
       "</table>\n",
       "<p>3276 rows × 10 columns</p>\n",
       "</div>"
      ],
      "text/plain": [
       "            ph  Hardness    Solids  Chloramines   Sulfate  Conductivity  \\\n",
       "0    -0.025474  0.259195 -0.139471     0.112415  0.965957      1.708954   \n",
       "1    -2.284717 -2.036414 -0.385987    -0.307694 -0.014799      2.062575   \n",
       "2     0.697319  0.847665 -0.240047     1.360594 -0.014799     -0.094032   \n",
       "3     0.845393  0.547651  0.000493     0.592008  0.644130     -0.778830   \n",
       "4     1.372982 -0.464429 -0.460249    -0.363698 -0.649522     -0.343939   \n",
       "...        ...       ...       ...          ...       ...           ...   \n",
       "3271 -1.637002 -0.081758  2.916188     0.028027  0.728872      1.240155   \n",
       "3272  0.499833 -0.085667 -0.534295     0.593290 -0.014799     -0.417706   \n",
       "3273  1.595654 -0.626829  1.270810     0.144017 -0.014799      0.072263   \n",
       "3274 -1.324949  1.041355 -1.144058    -0.517373 -0.014799     -0.288597   \n",
       "3275  0.544611 -0.038546 -0.525812     0.244515 -0.014799     -1.221919   \n",
       "\n",
       "      Organic_carbon  Trihalomethanes  Turbidity  Potability  \n",
       "0          -1.180651         1.305434  -1.286298           0  \n",
       "1           0.270597        -0.639186   0.684218           0  \n",
       "2           0.781117         0.000800  -1.167365           0  \n",
       "3           1.255134         2.152154   0.848412           0  \n",
       "4          -0.824357        -2.182297   0.138786           0  \n",
       "...              ...              ...        ...         ...  \n",
       "3271       -0.118075         0.017772   0.601124           1  \n",
       "3272        1.698560         0.013636  -1.497627           1  \n",
       "3273       -0.981329         0.218038  -0.856007           1  \n",
       "3274       -0.942064         0.702756   0.950797           1  \n",
       "3275        0.560940         0.779510  -2.124459           1  \n",
       "\n",
       "[3276 rows x 10 columns]"
      ]
     },
     "execution_count": 176,
     "metadata": {},
     "output_type": "execute_result"
    }
   ],
   "source": [
    "df_feat"
   ]
  },
  {
   "cell_type": "code",
   "execution_count": 177,
   "id": "768c2a32",
   "metadata": {},
   "outputs": [
    {
     "data": {
      "text/plain": [
       "0    1998\n",
       "1    1278\n",
       "Name: Potability, dtype: int64"
      ]
     },
     "execution_count": 177,
     "metadata": {},
     "output_type": "execute_result"
    }
   ],
   "source": [
    "df['Potability'].value_counts()"
   ]
  },
  {
   "cell_type": "code",
   "execution_count": 178,
   "id": "b68a3fd9",
   "metadata": {},
   "outputs": [
    {
     "data": {
      "text/plain": [
       "0    1998\n",
       "1    1278\n",
       "Name: Potability, dtype: int64"
      ]
     },
     "execution_count": 178,
     "metadata": {},
     "output_type": "execute_result"
    }
   ],
   "source": [
    "df_feat['Potability'].value_counts()"
   ]
  },
  {
   "cell_type": "code",
   "execution_count": 179,
   "id": "12f6f109",
   "metadata": {},
   "outputs": [],
   "source": [
    "from imblearn.over_sampling import SMOTE\n",
    "sm = SMOTE(sampling_strategy='minority', random_state=42)\n",
    "oversampled_X, oversampled_Y = sm.fit_resample(df_feat.drop('Potability', axis=1), df_feat['Potability'])\n",
    "df_feat = pd.concat([pd.DataFrame(oversampled_Y), pd.DataFrame(oversampled_X)], axis=1)"
   ]
  },
  {
   "cell_type": "code",
   "execution_count": 180,
   "id": "bc699e51",
   "metadata": {},
   "outputs": [
    {
     "data": {
      "text/plain": [
       "0    1998\n",
       "1    1998\n",
       "Name: Potability, dtype: int64"
      ]
     },
     "execution_count": 180,
     "metadata": {},
     "output_type": "execute_result"
    }
   ],
   "source": [
    "df_feat['Potability'].value_counts()"
   ]
  },
  {
   "cell_type": "code",
   "execution_count": 181,
   "id": "7b5dedae",
   "metadata": {},
   "outputs": [
    {
     "data": {
      "text/html": [
       "<div>\n",
       "<style scoped>\n",
       "    .dataframe tbody tr th:only-of-type {\n",
       "        vertical-align: middle;\n",
       "    }\n",
       "\n",
       "    .dataframe tbody tr th {\n",
       "        vertical-align: top;\n",
       "    }\n",
       "\n",
       "    .dataframe thead th {\n",
       "        text-align: right;\n",
       "    }\n",
       "</style>\n",
       "<table border=\"1\" class=\"dataframe\">\n",
       "  <thead>\n",
       "    <tr style=\"text-align: right;\">\n",
       "      <th></th>\n",
       "      <th>Potability</th>\n",
       "      <th>ph</th>\n",
       "      <th>Hardness</th>\n",
       "      <th>Solids</th>\n",
       "      <th>Chloramines</th>\n",
       "      <th>Sulfate</th>\n",
       "      <th>Conductivity</th>\n",
       "      <th>Organic_carbon</th>\n",
       "      <th>Trihalomethanes</th>\n",
       "      <th>Turbidity</th>\n",
       "    </tr>\n",
       "  </thead>\n",
       "  <tbody>\n",
       "    <tr>\n",
       "      <th>0</th>\n",
       "      <td>0</td>\n",
       "      <td>-0.025474</td>\n",
       "      <td>0.259195</td>\n",
       "      <td>-0.139471</td>\n",
       "      <td>0.112415</td>\n",
       "      <td>0.965957</td>\n",
       "      <td>1.708954</td>\n",
       "      <td>-1.180651</td>\n",
       "      <td>1.305434</td>\n",
       "      <td>-1.286298</td>\n",
       "    </tr>\n",
       "    <tr>\n",
       "      <th>1</th>\n",
       "      <td>0</td>\n",
       "      <td>-2.284717</td>\n",
       "      <td>-2.036414</td>\n",
       "      <td>-0.385987</td>\n",
       "      <td>-0.307694</td>\n",
       "      <td>-0.014799</td>\n",
       "      <td>2.062575</td>\n",
       "      <td>0.270597</td>\n",
       "      <td>-0.639186</td>\n",
       "      <td>0.684218</td>\n",
       "    </tr>\n",
       "    <tr>\n",
       "      <th>2</th>\n",
       "      <td>0</td>\n",
       "      <td>0.697319</td>\n",
       "      <td>0.847665</td>\n",
       "      <td>-0.240047</td>\n",
       "      <td>1.360594</td>\n",
       "      <td>-0.014799</td>\n",
       "      <td>-0.094032</td>\n",
       "      <td>0.781117</td>\n",
       "      <td>0.000800</td>\n",
       "      <td>-1.167365</td>\n",
       "    </tr>\n",
       "    <tr>\n",
       "      <th>3</th>\n",
       "      <td>0</td>\n",
       "      <td>0.845393</td>\n",
       "      <td>0.547651</td>\n",
       "      <td>0.000493</td>\n",
       "      <td>0.592008</td>\n",
       "      <td>0.644130</td>\n",
       "      <td>-0.778830</td>\n",
       "      <td>1.255134</td>\n",
       "      <td>2.152154</td>\n",
       "      <td>0.848412</td>\n",
       "    </tr>\n",
       "    <tr>\n",
       "      <th>4</th>\n",
       "      <td>0</td>\n",
       "      <td>1.372982</td>\n",
       "      <td>-0.464429</td>\n",
       "      <td>-0.460249</td>\n",
       "      <td>-0.363698</td>\n",
       "      <td>-0.649522</td>\n",
       "      <td>-0.343939</td>\n",
       "      <td>-0.824357</td>\n",
       "      <td>-2.182297</td>\n",
       "      <td>0.138786</td>\n",
       "    </tr>\n",
       "    <tr>\n",
       "      <th>...</th>\n",
       "      <td>...</td>\n",
       "      <td>...</td>\n",
       "      <td>...</td>\n",
       "      <td>...</td>\n",
       "      <td>...</td>\n",
       "      <td>...</td>\n",
       "      <td>...</td>\n",
       "      <td>...</td>\n",
       "      <td>...</td>\n",
       "      <td>...</td>\n",
       "    </tr>\n",
       "    <tr>\n",
       "      <th>3991</th>\n",
       "      <td>1</td>\n",
       "      <td>-0.216874</td>\n",
       "      <td>-0.134780</td>\n",
       "      <td>-0.328239</td>\n",
       "      <td>-0.704871</td>\n",
       "      <td>-0.746730</td>\n",
       "      <td>-0.141491</td>\n",
       "      <td>0.605550</td>\n",
       "      <td>-0.369608</td>\n",
       "      <td>0.836987</td>\n",
       "    </tr>\n",
       "    <tr>\n",
       "      <th>3992</th>\n",
       "      <td>1</td>\n",
       "      <td>-1.293709</td>\n",
       "      <td>-0.850112</td>\n",
       "      <td>0.460520</td>\n",
       "      <td>0.211374</td>\n",
       "      <td>-0.014799</td>\n",
       "      <td>-0.800511</td>\n",
       "      <td>-0.330566</td>\n",
       "      <td>-0.057716</td>\n",
       "      <td>-0.004758</td>\n",
       "    </tr>\n",
       "    <tr>\n",
       "      <th>3993</th>\n",
       "      <td>1</td>\n",
       "      <td>-0.118758</td>\n",
       "      <td>-1.225925</td>\n",
       "      <td>1.349744</td>\n",
       "      <td>1.421026</td>\n",
       "      <td>-1.615945</td>\n",
       "      <td>0.828031</td>\n",
       "      <td>-0.127186</td>\n",
       "      <td>0.391455</td>\n",
       "      <td>0.915816</td>\n",
       "    </tr>\n",
       "    <tr>\n",
       "      <th>3994</th>\n",
       "      <td>1</td>\n",
       "      <td>-0.032898</td>\n",
       "      <td>-0.469284</td>\n",
       "      <td>0.931506</td>\n",
       "      <td>2.049392</td>\n",
       "      <td>-2.114404</td>\n",
       "      <td>0.762701</td>\n",
       "      <td>-0.892061</td>\n",
       "      <td>0.150793</td>\n",
       "      <td>-0.245336</td>\n",
       "    </tr>\n",
       "    <tr>\n",
       "      <th>3995</th>\n",
       "      <td>1</td>\n",
       "      <td>0.230165</td>\n",
       "      <td>0.378715</td>\n",
       "      <td>-0.308982</td>\n",
       "      <td>0.239347</td>\n",
       "      <td>1.414893</td>\n",
       "      <td>0.897615</td>\n",
       "      <td>-0.133926</td>\n",
       "      <td>1.312145</td>\n",
       "      <td>1.522341</td>\n",
       "    </tr>\n",
       "  </tbody>\n",
       "</table>\n",
       "<p>3996 rows × 10 columns</p>\n",
       "</div>"
      ],
      "text/plain": [
       "      Potability        ph  Hardness    Solids  Chloramines   Sulfate  \\\n",
       "0              0 -0.025474  0.259195 -0.139471     0.112415  0.965957   \n",
       "1              0 -2.284717 -2.036414 -0.385987    -0.307694 -0.014799   \n",
       "2              0  0.697319  0.847665 -0.240047     1.360594 -0.014799   \n",
       "3              0  0.845393  0.547651  0.000493     0.592008  0.644130   \n",
       "4              0  1.372982 -0.464429 -0.460249    -0.363698 -0.649522   \n",
       "...          ...       ...       ...       ...          ...       ...   \n",
       "3991           1 -0.216874 -0.134780 -0.328239    -0.704871 -0.746730   \n",
       "3992           1 -1.293709 -0.850112  0.460520     0.211374 -0.014799   \n",
       "3993           1 -0.118758 -1.225925  1.349744     1.421026 -1.615945   \n",
       "3994           1 -0.032898 -0.469284  0.931506     2.049392 -2.114404   \n",
       "3995           1  0.230165  0.378715 -0.308982     0.239347  1.414893   \n",
       "\n",
       "      Conductivity  Organic_carbon  Trihalomethanes  Turbidity  \n",
       "0         1.708954       -1.180651         1.305434  -1.286298  \n",
       "1         2.062575        0.270597        -0.639186   0.684218  \n",
       "2        -0.094032        0.781117         0.000800  -1.167365  \n",
       "3        -0.778830        1.255134         2.152154   0.848412  \n",
       "4        -0.343939       -0.824357        -2.182297   0.138786  \n",
       "...            ...             ...              ...        ...  \n",
       "3991     -0.141491        0.605550        -0.369608   0.836987  \n",
       "3992     -0.800511       -0.330566        -0.057716  -0.004758  \n",
       "3993      0.828031       -0.127186         0.391455   0.915816  \n",
       "3994      0.762701       -0.892061         0.150793  -0.245336  \n",
       "3995      0.897615       -0.133926         1.312145   1.522341  \n",
       "\n",
       "[3996 rows x 10 columns]"
      ]
     },
     "execution_count": 181,
     "metadata": {},
     "output_type": "execute_result"
    }
   ],
   "source": [
    "df_feat"
   ]
  },
  {
   "cell_type": "markdown",
   "id": "3a095ac5",
   "metadata": {
    "id": "3a095ac5"
   },
   "source": [
    "#### Train test seperation"
   ]
  },
  {
   "cell_type": "code",
   "execution_count": 182,
   "id": "3a11042e",
   "metadata": {
    "id": "3a11042e"
   },
   "outputs": [],
   "source": [
    "from sklearn.model_selection import train_test_split"
   ]
  },
  {
   "cell_type": "code",
   "execution_count": 183,
   "id": "07ce8c68",
   "metadata": {
    "id": "07ce8c68"
   },
   "outputs": [
    {
     "data": {
      "text/plain": [
       "(800, 9)"
      ]
     },
     "execution_count": 183,
     "metadata": {},
     "output_type": "execute_result"
    }
   ],
   "source": [
    "X = df_feat.drop(['Potability'],axis=1)\n",
    "y = df_feat['Potability']\n",
    "X_train, X_test, y_train, y_test = train_test_split(X, y, test_size=0.2, random_state=50)\n",
    "X_test.shape"
   ]
  },
  {
   "cell_type": "code",
   "execution_count": 184,
   "id": "4199ad45",
   "metadata": {},
   "outputs": [
    {
     "data": {
      "text/html": [
       "<div>\n",
       "<style scoped>\n",
       "    .dataframe tbody tr th:only-of-type {\n",
       "        vertical-align: middle;\n",
       "    }\n",
       "\n",
       "    .dataframe tbody tr th {\n",
       "        vertical-align: top;\n",
       "    }\n",
       "\n",
       "    .dataframe thead th {\n",
       "        text-align: right;\n",
       "    }\n",
       "</style>\n",
       "<table border=\"1\" class=\"dataframe\">\n",
       "  <thead>\n",
       "    <tr style=\"text-align: right;\">\n",
       "      <th></th>\n",
       "      <th>ph</th>\n",
       "      <th>Hardness</th>\n",
       "      <th>Solids</th>\n",
       "      <th>Chloramines</th>\n",
       "      <th>Sulfate</th>\n",
       "      <th>Conductivity</th>\n",
       "      <th>Organic_carbon</th>\n",
       "      <th>Trihalomethanes</th>\n",
       "      <th>Turbidity</th>\n",
       "    </tr>\n",
       "  </thead>\n",
       "  <tbody>\n",
       "    <tr>\n",
       "      <th>0</th>\n",
       "      <td>-0.025474</td>\n",
       "      <td>0.259195</td>\n",
       "      <td>-0.139471</td>\n",
       "      <td>0.112415</td>\n",
       "      <td>0.965957</td>\n",
       "      <td>1.708954</td>\n",
       "      <td>-1.180651</td>\n",
       "      <td>1.305434</td>\n",
       "      <td>-1.286298</td>\n",
       "    </tr>\n",
       "    <tr>\n",
       "      <th>1</th>\n",
       "      <td>-2.284717</td>\n",
       "      <td>-2.036414</td>\n",
       "      <td>-0.385987</td>\n",
       "      <td>-0.307694</td>\n",
       "      <td>-0.014799</td>\n",
       "      <td>2.062575</td>\n",
       "      <td>0.270597</td>\n",
       "      <td>-0.639186</td>\n",
       "      <td>0.684218</td>\n",
       "    </tr>\n",
       "    <tr>\n",
       "      <th>2</th>\n",
       "      <td>0.697319</td>\n",
       "      <td>0.847665</td>\n",
       "      <td>-0.240047</td>\n",
       "      <td>1.360594</td>\n",
       "      <td>-0.014799</td>\n",
       "      <td>-0.094032</td>\n",
       "      <td>0.781117</td>\n",
       "      <td>0.000800</td>\n",
       "      <td>-1.167365</td>\n",
       "    </tr>\n",
       "    <tr>\n",
       "      <th>3</th>\n",
       "      <td>0.845393</td>\n",
       "      <td>0.547651</td>\n",
       "      <td>0.000493</td>\n",
       "      <td>0.592008</td>\n",
       "      <td>0.644130</td>\n",
       "      <td>-0.778830</td>\n",
       "      <td>1.255134</td>\n",
       "      <td>2.152154</td>\n",
       "      <td>0.848412</td>\n",
       "    </tr>\n",
       "    <tr>\n",
       "      <th>4</th>\n",
       "      <td>1.372982</td>\n",
       "      <td>-0.464429</td>\n",
       "      <td>-0.460249</td>\n",
       "      <td>-0.363698</td>\n",
       "      <td>-0.649522</td>\n",
       "      <td>-0.343939</td>\n",
       "      <td>-0.824357</td>\n",
       "      <td>-2.182297</td>\n",
       "      <td>0.138786</td>\n",
       "    </tr>\n",
       "    <tr>\n",
       "      <th>...</th>\n",
       "      <td>...</td>\n",
       "      <td>...</td>\n",
       "      <td>...</td>\n",
       "      <td>...</td>\n",
       "      <td>...</td>\n",
       "      <td>...</td>\n",
       "      <td>...</td>\n",
       "      <td>...</td>\n",
       "      <td>...</td>\n",
       "    </tr>\n",
       "    <tr>\n",
       "      <th>3991</th>\n",
       "      <td>-0.216874</td>\n",
       "      <td>-0.134780</td>\n",
       "      <td>-0.328239</td>\n",
       "      <td>-0.704871</td>\n",
       "      <td>-0.746730</td>\n",
       "      <td>-0.141491</td>\n",
       "      <td>0.605550</td>\n",
       "      <td>-0.369608</td>\n",
       "      <td>0.836987</td>\n",
       "    </tr>\n",
       "    <tr>\n",
       "      <th>3992</th>\n",
       "      <td>-1.293709</td>\n",
       "      <td>-0.850112</td>\n",
       "      <td>0.460520</td>\n",
       "      <td>0.211374</td>\n",
       "      <td>-0.014799</td>\n",
       "      <td>-0.800511</td>\n",
       "      <td>-0.330566</td>\n",
       "      <td>-0.057716</td>\n",
       "      <td>-0.004758</td>\n",
       "    </tr>\n",
       "    <tr>\n",
       "      <th>3993</th>\n",
       "      <td>-0.118758</td>\n",
       "      <td>-1.225925</td>\n",
       "      <td>1.349744</td>\n",
       "      <td>1.421026</td>\n",
       "      <td>-1.615945</td>\n",
       "      <td>0.828031</td>\n",
       "      <td>-0.127186</td>\n",
       "      <td>0.391455</td>\n",
       "      <td>0.915816</td>\n",
       "    </tr>\n",
       "    <tr>\n",
       "      <th>3994</th>\n",
       "      <td>-0.032898</td>\n",
       "      <td>-0.469284</td>\n",
       "      <td>0.931506</td>\n",
       "      <td>2.049392</td>\n",
       "      <td>-2.114404</td>\n",
       "      <td>0.762701</td>\n",
       "      <td>-0.892061</td>\n",
       "      <td>0.150793</td>\n",
       "      <td>-0.245336</td>\n",
       "    </tr>\n",
       "    <tr>\n",
       "      <th>3995</th>\n",
       "      <td>0.230165</td>\n",
       "      <td>0.378715</td>\n",
       "      <td>-0.308982</td>\n",
       "      <td>0.239347</td>\n",
       "      <td>1.414893</td>\n",
       "      <td>0.897615</td>\n",
       "      <td>-0.133926</td>\n",
       "      <td>1.312145</td>\n",
       "      <td>1.522341</td>\n",
       "    </tr>\n",
       "  </tbody>\n",
       "</table>\n",
       "<p>3996 rows × 9 columns</p>\n",
       "</div>"
      ],
      "text/plain": [
       "            ph  Hardness    Solids  Chloramines   Sulfate  Conductivity  \\\n",
       "0    -0.025474  0.259195 -0.139471     0.112415  0.965957      1.708954   \n",
       "1    -2.284717 -2.036414 -0.385987    -0.307694 -0.014799      2.062575   \n",
       "2     0.697319  0.847665 -0.240047     1.360594 -0.014799     -0.094032   \n",
       "3     0.845393  0.547651  0.000493     0.592008  0.644130     -0.778830   \n",
       "4     1.372982 -0.464429 -0.460249    -0.363698 -0.649522     -0.343939   \n",
       "...        ...       ...       ...          ...       ...           ...   \n",
       "3991 -0.216874 -0.134780 -0.328239    -0.704871 -0.746730     -0.141491   \n",
       "3992 -1.293709 -0.850112  0.460520     0.211374 -0.014799     -0.800511   \n",
       "3993 -0.118758 -1.225925  1.349744     1.421026 -1.615945      0.828031   \n",
       "3994 -0.032898 -0.469284  0.931506     2.049392 -2.114404      0.762701   \n",
       "3995  0.230165  0.378715 -0.308982     0.239347  1.414893      0.897615   \n",
       "\n",
       "      Organic_carbon  Trihalomethanes  Turbidity  \n",
       "0          -1.180651         1.305434  -1.286298  \n",
       "1           0.270597        -0.639186   0.684218  \n",
       "2           0.781117         0.000800  -1.167365  \n",
       "3           1.255134         2.152154   0.848412  \n",
       "4          -0.824357        -2.182297   0.138786  \n",
       "...              ...              ...        ...  \n",
       "3991        0.605550        -0.369608   0.836987  \n",
       "3992       -0.330566        -0.057716  -0.004758  \n",
       "3993       -0.127186         0.391455   0.915816  \n",
       "3994       -0.892061         0.150793  -0.245336  \n",
       "3995       -0.133926         1.312145   1.522341  \n",
       "\n",
       "[3996 rows x 9 columns]"
      ]
     },
     "execution_count": 184,
     "metadata": {},
     "output_type": "execute_result"
    }
   ],
   "source": [
    "X"
   ]
  },
  {
   "cell_type": "code",
   "execution_count": 185,
   "id": "bb0e6a91",
   "metadata": {},
   "outputs": [
    {
     "data": {
      "text/plain": [
       "0       0\n",
       "1       0\n",
       "2       0\n",
       "3       0\n",
       "4       0\n",
       "       ..\n",
       "3991    1\n",
       "3992    1\n",
       "3993    1\n",
       "3994    1\n",
       "3995    1\n",
       "Name: Potability, Length: 3996, dtype: int64"
      ]
     },
     "execution_count": 185,
     "metadata": {},
     "output_type": "execute_result"
    }
   ],
   "source": [
    "y"
   ]
  },
  {
   "cell_type": "markdown",
   "id": "60e5f2a9",
   "metadata": {
    "id": "60e5f2a9"
   },
   "source": [
    "#### KNN"
   ]
  },
  {
   "cell_type": "code",
   "execution_count": 186,
   "id": "6bae8522",
   "metadata": {
    "id": "6bae8522"
   },
   "outputs": [],
   "source": [
    "knn = KNeighborsClassifier()"
   ]
  },
  {
   "cell_type": "code",
   "execution_count": 187,
   "id": "d5f0aece",
   "metadata": {
    "colab": {
     "base_uri": "https://localhost:8080/"
    },
    "id": "d5f0aece",
    "outputId": "0c33e0d5-664e-4c7c-fc0d-4f360f13f3bf"
   },
   "outputs": [
    {
     "data": {
      "text/html": [
       "<style>#sk-container-id-9 {color: black;background-color: white;}#sk-container-id-9 pre{padding: 0;}#sk-container-id-9 div.sk-toggleable {background-color: white;}#sk-container-id-9 label.sk-toggleable__label {cursor: pointer;display: block;width: 100%;margin-bottom: 0;padding: 0.3em;box-sizing: border-box;text-align: center;}#sk-container-id-9 label.sk-toggleable__label-arrow:before {content: \"▸\";float: left;margin-right: 0.25em;color: #696969;}#sk-container-id-9 label.sk-toggleable__label-arrow:hover:before {color: black;}#sk-container-id-9 div.sk-estimator:hover label.sk-toggleable__label-arrow:before {color: black;}#sk-container-id-9 div.sk-toggleable__content {max-height: 0;max-width: 0;overflow: hidden;text-align: left;background-color: #f0f8ff;}#sk-container-id-9 div.sk-toggleable__content pre {margin: 0.2em;color: black;border-radius: 0.25em;background-color: #f0f8ff;}#sk-container-id-9 input.sk-toggleable__control:checked~div.sk-toggleable__content {max-height: 200px;max-width: 100%;overflow: auto;}#sk-container-id-9 input.sk-toggleable__control:checked~label.sk-toggleable__label-arrow:before {content: \"▾\";}#sk-container-id-9 div.sk-estimator input.sk-toggleable__control:checked~label.sk-toggleable__label {background-color: #d4ebff;}#sk-container-id-9 div.sk-label input.sk-toggleable__control:checked~label.sk-toggleable__label {background-color: #d4ebff;}#sk-container-id-9 input.sk-hidden--visually {border: 0;clip: rect(1px 1px 1px 1px);clip: rect(1px, 1px, 1px, 1px);height: 1px;margin: -1px;overflow: hidden;padding: 0;position: absolute;width: 1px;}#sk-container-id-9 div.sk-estimator {font-family: monospace;background-color: #f0f8ff;border: 1px dotted black;border-radius: 0.25em;box-sizing: border-box;margin-bottom: 0.5em;}#sk-container-id-9 div.sk-estimator:hover {background-color: #d4ebff;}#sk-container-id-9 div.sk-parallel-item::after {content: \"\";width: 100%;border-bottom: 1px solid gray;flex-grow: 1;}#sk-container-id-9 div.sk-label:hover label.sk-toggleable__label {background-color: #d4ebff;}#sk-container-id-9 div.sk-serial::before {content: \"\";position: absolute;border-left: 1px solid gray;box-sizing: border-box;top: 0;bottom: 0;left: 50%;z-index: 0;}#sk-container-id-9 div.sk-serial {display: flex;flex-direction: column;align-items: center;background-color: white;padding-right: 0.2em;padding-left: 0.2em;position: relative;}#sk-container-id-9 div.sk-item {position: relative;z-index: 1;}#sk-container-id-9 div.sk-parallel {display: flex;align-items: stretch;justify-content: center;background-color: white;position: relative;}#sk-container-id-9 div.sk-item::before, #sk-container-id-9 div.sk-parallel-item::before {content: \"\";position: absolute;border-left: 1px solid gray;box-sizing: border-box;top: 0;bottom: 0;left: 50%;z-index: -1;}#sk-container-id-9 div.sk-parallel-item {display: flex;flex-direction: column;z-index: 1;position: relative;background-color: white;}#sk-container-id-9 div.sk-parallel-item:first-child::after {align-self: flex-end;width: 50%;}#sk-container-id-9 div.sk-parallel-item:last-child::after {align-self: flex-start;width: 50%;}#sk-container-id-9 div.sk-parallel-item:only-child::after {width: 0;}#sk-container-id-9 div.sk-dashed-wrapped {border: 1px dashed gray;margin: 0 0.4em 0.5em 0.4em;box-sizing: border-box;padding-bottom: 0.4em;background-color: white;}#sk-container-id-9 div.sk-label label {font-family: monospace;font-weight: bold;display: inline-block;line-height: 1.2em;}#sk-container-id-9 div.sk-label-container {text-align: center;}#sk-container-id-9 div.sk-container {/* jupyter's `normalize.less` sets `[hidden] { display: none; }` but bootstrap.min.css set `[hidden] { display: none !important; }` so we also need the `!important` here to be able to override the default hidden behavior on the sphinx rendered scikit-learn.org. See: https://github.com/scikit-learn/scikit-learn/issues/21755 */display: inline-block !important;position: relative;}#sk-container-id-9 div.sk-text-repr-fallback {display: none;}</style><div id=\"sk-container-id-9\" class=\"sk-top-container\"><div class=\"sk-text-repr-fallback\"><pre>KNeighborsClassifier()</pre><b>In a Jupyter environment, please rerun this cell to show the HTML representation or trust the notebook. <br />On GitHub, the HTML representation is unable to render, please try loading this page with nbviewer.org.</b></div><div class=\"sk-container\" hidden><div class=\"sk-item\"><div class=\"sk-estimator sk-toggleable\"><input class=\"sk-toggleable__control sk-hidden--visually\" id=\"sk-estimator-id-9\" type=\"checkbox\" checked><label for=\"sk-estimator-id-9\" class=\"sk-toggleable__label sk-toggleable__label-arrow\">KNeighborsClassifier</label><div class=\"sk-toggleable__content\"><pre>KNeighborsClassifier()</pre></div></div></div></div></div>"
      ],
      "text/plain": [
       "KNeighborsClassifier()"
      ]
     },
     "execution_count": 187,
     "metadata": {},
     "output_type": "execute_result"
    }
   ],
   "source": [
    "knn.fit(X_train,y_train)"
   ]
  },
  {
   "cell_type": "markdown",
   "id": "1d063722",
   "metadata": {},
   "source": [
    "#### Training Accuracy"
   ]
  },
  {
   "cell_type": "code",
   "execution_count": 188,
   "id": "1799cbb5",
   "metadata": {},
   "outputs": [],
   "source": [
    "pred = knn.predict(X_train)"
   ]
  },
  {
   "cell_type": "code",
   "execution_count": 189,
   "id": "48143974",
   "metadata": {},
   "outputs": [
    {
     "name": "stdout",
     "output_type": "stream",
     "text": [
      "0.8069461827284106\n"
     ]
    }
   ],
   "source": [
    "accuracy = accuracy_score(y_train,pred)\n",
    "print(accuracy)"
   ]
  },
  {
   "cell_type": "markdown",
   "id": "d2886155",
   "metadata": {},
   "source": [
    "#### Cross Validation"
   ]
  },
  {
   "cell_type": "code",
   "execution_count": 190,
   "id": "1540839e",
   "metadata": {},
   "outputs": [],
   "source": [
    "from sklearn.model_selection import cross_val_score,cross_val_predict\n",
    "knn_acc=cross_val_score(knn,X_train,y_train,cv=5,scoring='accuracy',n_jobs=-1)\n",
    "knn_proba=cross_val_predict(knn,X_train,y_train,cv=5,method='predict_proba')"
   ]
  },
  {
   "cell_type": "markdown",
   "id": "16af509d",
   "metadata": {},
   "source": [
    "#### Validation Accuracy"
   ]
  },
  {
   "cell_type": "code",
   "execution_count": 191,
   "id": "301eeca9",
   "metadata": {},
   "outputs": [
    {
     "data": {
      "text/plain": [
       "array([0.63125   , 0.63067293, 0.69170579, 0.6885759 , 0.62441315])"
      ]
     },
     "execution_count": 191,
     "metadata": {},
     "output_type": "execute_result"
    }
   ],
   "source": [
    "knn_acc"
   ]
  },
  {
   "cell_type": "code",
   "execution_count": 192,
   "id": "d9f83ef4",
   "metadata": {},
   "outputs": [
    {
     "data": {
      "text/plain": [
       "0.6533235524256651"
      ]
     },
     "execution_count": 192,
     "metadata": {},
     "output_type": "execute_result"
    }
   ],
   "source": [
    "knn_acc.mean()"
   ]
  },
  {
   "cell_type": "code",
   "execution_count": 193,
   "id": "b137fc5f",
   "metadata": {
    "id": "b137fc5f"
   },
   "outputs": [],
   "source": [
    "from sklearn.metrics import classification_report, confusion_matrix"
   ]
  },
  {
   "cell_type": "markdown",
   "id": "702ca1af",
   "metadata": {},
   "source": [
    "#### Test Accuracy"
   ]
  },
  {
   "cell_type": "code",
   "execution_count": 194,
   "id": "41400cf3",
   "metadata": {},
   "outputs": [],
   "source": [
    "pred = knn.predict(X_test)"
   ]
  },
  {
   "cell_type": "code",
   "execution_count": 195,
   "id": "c32586b4",
   "metadata": {},
   "outputs": [
    {
     "name": "stdout",
     "output_type": "stream",
     "text": [
      "0.69\n"
     ]
    }
   ],
   "source": [
    "accuracy = accuracy_score(y_test,pred)\n",
    "print(accuracy)"
   ]
  },
  {
   "cell_type": "markdown",
   "id": "1f20332f",
   "metadata": {
    "id": "1f20332f"
   },
   "source": [
    "#### Confusion Matrix"
   ]
  },
  {
   "cell_type": "code",
   "execution_count": 196,
   "id": "eca5bb37",
   "metadata": {
    "colab": {
     "base_uri": "https://localhost:8080/"
    },
    "id": "eca5bb37",
    "outputId": "968e90c8-74c9-4cf2-e35a-2a82e79b6bcb"
   },
   "outputs": [
    {
     "name": "stdout",
     "output_type": "stream",
     "text": [
      "confusion_matrix: \n",
      " [[256 149]\n",
      " [ 99 296]]\n",
      "              precision    recall  f1-score   support\n",
      "\n",
      "           0       0.72      0.63      0.67       405\n",
      "           1       0.67      0.75      0.70       395\n",
      "\n",
      "    accuracy                           0.69       800\n",
      "   macro avg       0.69      0.69      0.69       800\n",
      "weighted avg       0.69      0.69      0.69       800\n",
      "\n"
     ]
    }
   ],
   "source": [
    "confusion_matrix_ = confusion_matrix(y_test, pred)\n",
    "\n",
    "print('confusion_matrix: \\n', confusion_matrix_)\n",
    "print(classification_report(y_test, pred))\n"
   ]
  },
  {
   "cell_type": "code",
   "execution_count": 197,
   "id": "e5d25747",
   "metadata": {
    "colab": {
     "base_uri": "https://localhost:8080/"
    },
    "id": "e5d25747",
    "outputId": "9cc4f638-520a-4ee1-9109-05d3a22171dd"
   },
   "outputs": [
    {
     "name": "stdout",
     "output_type": "stream",
     "text": [
      "True Negatives =  256\n",
      "False Negatives =  99\n",
      "False Positives =  149\n",
      "True Positives =  296\n"
     ]
    }
   ],
   "source": [
    "TN = confusion_matrix_[0,0]\n",
    "print(\"True Negatives = \", TN)\n",
    "\n",
    "FN = confusion_matrix_[1,0]\n",
    "print(\"False Negatives = \", FN)\n",
    "\n",
    "FP = confusion_matrix_[0,1]\n",
    "print(\"False Positives = \", FP)\n",
    "\n",
    "TP = confusion_matrix_[1,1]\n",
    "print(\"True Positives = \", TP)\n"
   ]
  },
  {
   "cell_type": "markdown",
   "id": "38cdca08",
   "metadata": {},
   "source": [
    "#### True Positive Rate, Flase Positive Rate"
   ]
  },
  {
   "cell_type": "code",
   "execution_count": 198,
   "id": "af5eba07",
   "metadata": {},
   "outputs": [
    {
     "name": "stdout",
     "output_type": "stream",
     "text": [
      "True Positive Rate =  0.75\n",
      "False Positive Rate =  0.37\n"
     ]
    }
   ],
   "source": [
    "TPR = np.round(TP/(TP+FN), 2)\n",
    "FPR = np.round(FP/(FP+TN), 2)\n",
    "\n",
    "print(\"True Positive Rate = \", TPR)\n",
    "print(\"False Positive Rate = \", FPR)"
   ]
  },
  {
   "cell_type": "markdown",
   "id": "e98fa852",
   "metadata": {},
   "source": [
    "#### ROC: Receiver operating Characteristics and AUC: Area Under the Curve"
   ]
  },
  {
   "cell_type": "code",
   "execution_count": 199,
   "id": "3a805b1a",
   "metadata": {},
   "outputs": [
    {
     "data": {
      "image/png": "[encoded data removed]",
      "text/plain": [
       "<Figure size 720x576 with 1 Axes>"
      ]
     },
     "metadata": {
      "needs_background": "light"
     },
     "output_type": "display_data"
    }
   ],
   "source": [
    "fpr, tpr, thr = roc_curve(y_test, pred)\n",
    "auc = np.round(roc_auc_score(y_test, pred), 2)\n",
    "\n",
    "plt.figure(figsize=(10, 8))\n",
    "plt.plot(fpr, \n",
    "         tpr, \n",
    "         color='green', \n",
    "         lw=2, \n",
    "         label=\"Curve Area = \" +str(auc))\n",
    "\n",
    "plt.plot([0, 1], [0, 1], color='blue', lw=2, linestyle='--')\n",
    "plt.xlabel('False Positive Rate (FPR)')\n",
    "plt.ylabel('True Positive Rate (TPR)')\n",
    "plt.title('ROC curve')\n",
    "plt.legend(loc=\"lower right\")\n",
    "plt.show()"
   ]
  },
  {
   "cell_type": "code",
   "execution_count": 200,
   "id": "62e2d620",
   "metadata": {},
   "outputs": [
    {
     "name": "stdout",
     "output_type": "stream",
     "text": [
      ">1, train: 1.000, test: 0.744\n",
      ">2, train: 0.910, test: 0.704\n",
      ">3, train: 0.852, test: 0.690\n",
      ">4, train: 0.827, test: 0.690\n",
      ">5, train: 0.807, test: 0.690\n",
      ">6, train: 0.784, test: 0.691\n",
      ">7, train: 0.760, test: 0.677\n",
      ">8, train: 0.750, test: 0.684\n",
      ">9, train: 0.746, test: 0.677\n",
      ">10, train: 0.731, test: 0.677\n",
      ">11, train: 0.725, test: 0.675\n",
      ">12, train: 0.718, test: 0.666\n",
      ">13, train: 0.713, test: 0.666\n",
      ">14, train: 0.713, test: 0.669\n",
      ">15, train: 0.708, test: 0.667\n",
      ">16, train: 0.704, test: 0.666\n",
      ">17, train: 0.702, test: 0.662\n",
      ">18, train: 0.701, test: 0.652\n",
      ">19, train: 0.697, test: 0.646\n"
     ]
    },
    {
     "data": {
      "image/png": "[encoded data removed]",
      "text/plain": [
       "<Figure size 432x288 with 1 Axes>"
      ]
     },
     "metadata": {
      "needs_background": "light"
     },
     "output_type": "display_data"
    }
   ],
   "source": [
    "from sklearn.datasets import make_classification\n",
    "from sklearn.model_selection import train_test_split\n",
    "from sklearn.metrics import accuracy_score\n",
    "from sklearn.neighbors import KNeighborsClassifier\n",
    "from matplotlib import pyplot\n",
    "\n",
    "train_scores, test_scores = list(), list()\n",
    "values = [i for i in range(1, 20)]\n",
    "for i in values:\n",
    "    model = KNeighborsClassifier(n_neighbors=i)\n",
    "    model.fit(X_train, y_train)\n",
    "    train_yhat = model.predict(X_train)\n",
    "    train_acc = accuracy_score(y_train, train_yhat)\n",
    "    train_scores.append(train_acc)\n",
    "    test_yhat = model.predict(X_test)\n",
    "    test_acc = accuracy_score(y_test, test_yhat)\n",
    "    test_scores.append(test_acc)\n",
    "    print('>%d, train: %.3f, test: %.3f' % (i, train_acc, test_acc))\n",
    "pyplot.plot(values, train_scores, '-o', label='Train')\n",
    "pyplot.plot(values, test_scores, '-o', label='Test')\n",
    "pyplot.legend()\n",
    "pyplot.show()"
   ]
  },
  {
   "cell_type": "code",
   "execution_count": 201,
   "id": "98238964",
   "metadata": {},
   "outputs": [],
   "source": [
    "error_rate = []\n",
    "\n",
    "for i in range(1,40):\n",
    "    \n",
    "    knn = KNeighborsClassifier(n_neighbors=i)\n",
    "    knn.fit(X_train,y_train)\n",
    "    pred_i = knn.predict(X_test)\n",
    "    error_rate.append(np.mean(pred_i != y_test))"
   ]
  },
  {
   "cell_type": "code",
   "execution_count": 202,
   "id": "79c1ce5f",
   "metadata": {},
   "outputs": [
    {
     "data": {
      "image/png": "[encoded data removed]",
      "text/plain": [
       "<Figure size 720x432 with 1 Axes>"
      ]
     },
     "metadata": {
      "needs_background": "light"
     },
     "output_type": "display_data"
    }
   ],
   "source": [
    "plt.figure(figsize=(10,6))\n",
    "plt.plot(range(1,40), error_rate, color='blue', linestyle='dashed', marker='o',\n",
    "        markerfacecolor='red', markersize=10)\n",
    "plt.title(\"Error Rate Vs K Value\")\n",
    "\n",
    "plt.xlabel('K')\n",
    "plt.xlabel('Error Rate')\n",
    "plt.show()"
   ]
  },
  {
   "cell_type": "markdown",
   "id": "5d956575",
   "metadata": {},
   "source": [
    "#### Determining the best value of K"
   ]
  },
  {
   "cell_type": "code",
   "execution_count": 203,
   "id": "f2db92e9",
   "metadata": {},
   "outputs": [
    {
     "name": "stdout",
     "output_type": "stream",
     "text": [
      "1\n",
      "Accuracy =  0.74375\n",
      "Precision =  0.7\n",
      "Recall =  0.83\n",
      "f1 score =  0.76\n",
      "\n",
      "2\n",
      "Accuracy =  0.70375\n",
      "Precision =  0.75\n",
      "Recall =  0.61\n",
      "f1 score =  0.67\n",
      "\n",
      "3\n",
      "Accuracy =  0.69\n",
      "Precision =  0.67\n",
      "Recall =  0.75\n",
      "f1 score =  0.71\n",
      "\n",
      "4\n",
      "Accuracy =  0.69\n",
      "Precision =  0.71\n",
      "Recall =  0.62\n",
      "f1 score =  0.66\n",
      "\n",
      "5\n",
      "Accuracy =  0.69\n",
      "Precision =  0.67\n",
      "Recall =  0.75\n",
      "f1 score =  0.71\n",
      "\n",
      "6\n",
      "Accuracy =  0.69125\n",
      "Precision =  0.71\n",
      "Recall =  0.63\n",
      "f1 score =  0.67\n",
      "\n",
      "7\n",
      "Accuracy =  0.6775\n",
      "Precision =  0.65\n",
      "Recall =  0.75\n",
      "f1 score =  0.7\n",
      "\n",
      "8\n",
      "Accuracy =  0.68375\n",
      "Precision =  0.69\n",
      "Recall =  0.65\n",
      "f1 score =  0.67\n",
      "\n",
      "9\n",
      "Accuracy =  0.6775\n",
      "Precision =  0.65\n",
      "Recall =  0.74\n",
      "f1 score =  0.69\n",
      "\n",
      "10\n",
      "Accuracy =  0.6775\n",
      "Precision =  0.68\n",
      "Recall =  0.66\n",
      "f1 score =  0.67\n",
      "\n",
      "11\n",
      "Accuracy =  0.675\n",
      "Precision =  0.65\n",
      "Recall =  0.73\n",
      "f1 score =  0.69\n",
      "\n",
      "12\n",
      "Accuracy =  0.66625\n",
      "Precision =  0.67\n",
      "Recall =  0.64\n",
      "f1 score =  0.65\n",
      "\n",
      "13\n",
      "Accuracy =  0.66625\n",
      "Precision =  0.65\n",
      "Recall =  0.71\n",
      "f1 score =  0.68\n",
      "\n",
      "14\n",
      "Accuracy =  0.66875\n",
      "Precision =  0.68\n",
      "Recall =  0.63\n",
      "f1 score =  0.65\n",
      "\n",
      "15\n",
      "Accuracy =  0.6675\n",
      "Precision =  0.65\n",
      "Recall =  0.7\n",
      "f1 score =  0.67\n",
      "\n",
      "16\n",
      "Accuracy =  0.66625\n",
      "Precision =  0.67\n",
      "Recall =  0.63\n",
      "f1 score =  0.65\n",
      "\n",
      "17\n",
      "Accuracy =  0.6625\n",
      "Precision =  0.65\n",
      "Recall =  0.69\n",
      "f1 score =  0.67\n",
      "\n",
      "18\n",
      "Accuracy =  0.6525\n",
      "Precision =  0.65\n",
      "Recall =  0.63\n",
      "f1 score =  0.64\n",
      "\n",
      "19\n",
      "Accuracy =  0.64625\n",
      "Precision =  0.63\n",
      "Recall =  0.68\n",
      "f1 score =  0.65\n",
      "\n",
      "20\n",
      "Accuracy =  0.65\n",
      "Precision =  0.65\n",
      "Recall =  0.64\n",
      "f1 score =  0.64\n",
      "\n",
      "21\n",
      "Accuracy =  0.645\n",
      "Precision =  0.63\n",
      "Recall =  0.68\n",
      "f1 score =  0.65\n",
      "\n",
      "22\n",
      "Accuracy =  0.64625\n",
      "Precision =  0.65\n",
      "Recall =  0.63\n",
      "f1 score =  0.64\n",
      "\n",
      "23\n",
      "Accuracy =  0.63625\n",
      "Precision =  0.62\n",
      "Recall =  0.67\n",
      "f1 score =  0.64\n",
      "\n",
      "24\n",
      "Accuracy =  0.64125\n",
      "Precision =  0.64\n",
      "Recall =  0.63\n",
      "f1 score =  0.63\n",
      "\n",
      "25\n",
      "Accuracy =  0.63875\n",
      "Precision =  0.62\n",
      "Recall =  0.68\n",
      "f1 score =  0.65\n",
      "\n",
      "26\n",
      "Accuracy =  0.6325\n",
      "Precision =  0.63\n",
      "Recall =  0.62\n",
      "f1 score =  0.62\n",
      "\n",
      "27\n",
      "Accuracy =  0.64\n",
      "Precision =  0.62\n",
      "Recall =  0.68\n",
      "f1 score =  0.65\n",
      "\n",
      "28\n",
      "Accuracy =  0.6275\n",
      "Precision =  0.63\n",
      "Recall =  0.6\n",
      "f1 score =  0.61\n",
      "\n",
      "29\n",
      "Accuracy =  0.6375\n",
      "Precision =  0.62\n",
      "Recall =  0.67\n",
      "f1 score =  0.64\n",
      "\n"
     ]
    }
   ],
   "source": [
    "for i in range(1,30):\n",
    "    \n",
    "    knn = KNeighborsClassifier(n_neighbors=i)\n",
    "    knn.fit(X_train,y_train)\n",
    "    pred = knn.predict(X_test)\n",
    "    \n",
    "    confusion_matrix_ = confusion_matrix(y_test, pred)\n",
    "\n",
    "    TN = confusion_matrix_[0,0]\n",
    "   \n",
    "    FN = confusion_matrix_[1,0]\n",
    "\n",
    "    FP = confusion_matrix_[0,1]\n",
    "\n",
    "    TP = confusion_matrix_[1,1]\n",
    "\n",
    "    accuracy = accuracy_score(y_test,pred)\n",
    "    \n",
    "    precision = np.round(TP/(TP+FP), 2)\n",
    "    recall = np.round(TP/(TP+FN), 2)\n",
    "    f1_score_ = np.round((2*precision*recall)/(precision+recall), 2)\n",
    "    \n",
    "    print(i)\n",
    "    print(\"Accuracy = \",accuracy)\n",
    "    print(\"Precision = \", precision)\n",
    "    print(\"Recall = \", recall)\n",
    "    print(\"f1 score = \", f1_score_)\n",
    "    print()"
   ]
  },
  {
   "cell_type": "markdown",
   "id": "43f348fa",
   "metadata": {},
   "source": [
    "#### Hyperparameter Tuning"
   ]
  },
  {
   "cell_type": "code",
   "execution_count": 204,
   "id": "76532d97",
   "metadata": {},
   "outputs": [
    {
     "name": "stdout",
     "output_type": "stream",
     "text": [
      "              precision    recall  f1-score   support\n",
      "\n",
      "           0       0.80      0.66      0.72       405\n",
      "           1       0.70      0.83      0.76       395\n",
      "\n",
      "    accuracy                           0.74       800\n",
      "   macro avg       0.75      0.74      0.74       800\n",
      "weighted avg       0.75      0.74      0.74       800\n",
      "\n",
      "[[268 137]\n",
      " [ 68 327]]\n",
      "{'leaf_size': 1, 'metric': 'euclidean', 'n_neighbors': 1, 'weights': 'uniform'}\n"
     ]
    }
   ],
   "source": [
    "from sklearn.model_selection import GridSearchCV\n",
    "from sklearn.model_selection import RepeatedStratifiedKFold\n",
    "seed=50\n",
    "knn_params = {   \n",
    "    \"n_neighbors\": range(1, 31, 2),\n",
    "    \"weights\": [\"uniform\", \"distance\"],\n",
    "    \"metric\": [\"euclidean\", \"manhattan\", \"minkowski\"],\n",
    "    \"leaf_size\": range(1, 35, 5)\n",
    "   \n",
    "}\n",
    "\n",
    "knn = KNeighborsClassifier()\n",
    "\n",
    "cv = RepeatedStratifiedKFold(n_splits=10, n_repeats=3, random_state=seed)\n",
    "grid_search = GridSearchCV(estimator=knn, param_grid=knn_params, n_jobs=1, cv=cv, scoring=\"accuracy\", error_score=0)\n",
    "grid_result = grid_search.fit(X_train,y_train)\n",
    "\n",
    "kfinal_model = knn.set_params(**grid_result.best_params_)\n",
    "kfinal_model.fit(X_train,y_train)\n",
    "kpred = kfinal_model.predict(X_test)\n",
    "\n",
    "print(classification_report(y_test, kpred))\n",
    "print(confusion_matrix(y_test, kpred))\n",
    "\n",
    "print(grid_result.best_params_)"
   ]
  },
  {
   "cell_type": "markdown",
   "id": "62d57264",
   "metadata": {},
   "source": [
    "#### 'leaf_size': 1, 'metric': 'euclidean', 'n_neighbors': 1, 'weights': 'uniform'"
   ]
  },
  {
   "cell_type": "markdown",
   "id": "6255db26",
   "metadata": {},
   "source": [
    "#### ROC: Receiver operating Characteristics and AUC: Area Under the Curve"
   ]
  },
  {
   "cell_type": "code",
   "execution_count": 205,
   "id": "7f0f2607-27ae-461a-9a4a-7c2c7ed03c28",
   "metadata": {},
   "outputs": [
    {
     "data": {
      "image/png": "[encoded data removed]",
      "text/plain": [
       "<Figure size 720x576 with 1 Axes>"
      ]
     },
     "metadata": {
      "needs_background": "light"
     },
     "output_type": "display_data"
    }
   ],
   "source": [
    "fpr, tpr, thr = roc_curve(y_test, grid_result.predict_proba(X_test)[:,1])\n",
    "auc = np.round(roc_auc_score(y_test, kpred), 2)\n",
    "\n",
    "plt.figure(figsize=(10, 8))\n",
    "plt.plot(fpr, \n",
    "         tpr, \n",
    "         color='green', \n",
    "         lw=2, \n",
    "         label=\"Curve Area = \" +str(auc))\n",
    "\n",
    "plt.plot([0, 1], [0, 1], color='blue', lw=2, linestyle='--')\n",
    "plt.xlabel('False Positive Rate (FPR)')\n",
    "plt.ylabel('True Positive Rate (TPR)')\n",
    "plt.title('ROC curve of KNN')\n",
    "plt.legend(loc=\"lower right\")\n",
    "plt.show()"
   ]
  },
  {
   "cell_type": "markdown",
   "id": "d0009a7c",
   "metadata": {},
   "source": [
    "#### Training Accuracy"
   ]
  },
  {
   "cell_type": "code",
   "execution_count": 206,
   "id": "b5ad0f5d",
   "metadata": {},
   "outputs": [],
   "source": [
    "predh = kfinal_model.predict(X_train)"
   ]
  },
  {
   "cell_type": "code",
   "execution_count": 207,
   "id": "b2ac1504",
   "metadata": {},
   "outputs": [
    {
     "name": "stdout",
     "output_type": "stream",
     "text": [
      "1.0\n"
     ]
    }
   ],
   "source": [
    "accuracy = accuracy_score(y_train,predh)\n",
    "print(accuracy)"
   ]
  },
  {
   "cell_type": "markdown",
   "id": "3063f219",
   "metadata": {},
   "source": [
    "#### Cross Validation"
   ]
  },
  {
   "cell_type": "code",
   "execution_count": 208,
   "id": "e2a33a61",
   "metadata": {},
   "outputs": [],
   "source": [
    "from sklearn.model_selection import cross_val_score,cross_val_predict\n",
    "knnh_acc=cross_val_score(kfinal_model,X_train,y_train,cv=5,scoring='accuracy',n_jobs=-1)\n",
    "knnh_proba=cross_val_predict(kfinal_model,X_train,y_train,cv=5,method='predict_proba')"
   ]
  },
  {
   "cell_type": "markdown",
   "id": "261285a6",
   "metadata": {},
   "source": [
    "#### Validation Accuracy"
   ]
  },
  {
   "cell_type": "code",
   "execution_count": 209,
   "id": "ea351fc8",
   "metadata": {},
   "outputs": [
    {
     "data": {
      "text/plain": [
       "array([0.678125  , 0.71361502, 0.72456964, 0.71674491, 0.68075117])"
      ]
     },
     "execution_count": 209,
     "metadata": {},
     "output_type": "execute_result"
    }
   ],
   "source": [
    "knnh_acc"
   ]
  },
  {
   "cell_type": "code",
   "execution_count": 210,
   "id": "95c7000e",
   "metadata": {},
   "outputs": [
    {
     "data": {
      "text/plain": [
       "0.7027611502347417"
      ]
     },
     "execution_count": 210,
     "metadata": {},
     "output_type": "execute_result"
    }
   ],
   "source": [
    "knnh_acc.mean()"
   ]
  },
  {
   "cell_type": "markdown",
   "id": "f4290167",
   "metadata": {
    "id": "f4290167"
   },
   "source": [
    "#### Test Accuracy"
   ]
  },
  {
   "cell_type": "code",
   "execution_count": 211,
   "id": "0563ca6c",
   "metadata": {},
   "outputs": [],
   "source": [
    "pred = kfinal_model.predict(X_test) "
   ]
  },
  {
   "cell_type": "code",
   "execution_count": 212,
   "id": "659da2a3",
   "metadata": {
    "colab": {
     "base_uri": "https://localhost:8080/"
    },
    "id": "659da2a3",
    "outputId": "725ad09f-7225-43a7-c3f1-254231f10889"
   },
   "outputs": [
    {
     "name": "stdout",
     "output_type": "stream",
     "text": [
      "0.74375\n"
     ]
    }
   ],
   "source": [
    "accuracy = accuracy_score(y_test,pred)\n",
    "print(accuracy)"
   ]
  },
  {
   "cell_type": "markdown",
   "id": "c197ae60",
   "metadata": {},
   "source": [
    "#### Confusion Matrix"
   ]
  },
  {
   "cell_type": "code",
   "execution_count": 213,
   "id": "63d06ac6",
   "metadata": {},
   "outputs": [
    {
     "name": "stdout",
     "output_type": "stream",
     "text": [
      "confusion_matrix: \n",
      " [[268 137]\n",
      " [ 68 327]]\n",
      "              precision    recall  f1-score   support\n",
      "\n",
      "           0       0.80      0.66      0.72       405\n",
      "           1       0.70      0.83      0.76       395\n",
      "\n",
      "    accuracy                           0.74       800\n",
      "   macro avg       0.75      0.74      0.74       800\n",
      "weighted avg       0.75      0.74      0.74       800\n",
      "\n"
     ]
    }
   ],
   "source": [
    "confusion_matrix_ = confusion_matrix(y_test,pred)\n",
    "print('confusion_matrix: \\n', confusion_matrix_)\n",
    "print(classification_report(y_test,pred))"
   ]
  },
  {
   "cell_type": "code",
   "execution_count": 214,
   "id": "b4b6c9a7",
   "metadata": {},
   "outputs": [
    {
     "name": "stdout",
     "output_type": "stream",
     "text": [
      "True Negatives =  268\n",
      "False Negatives =  68\n",
      "False Positives =  137\n",
      "True Positives =  327\n"
     ]
    }
   ],
   "source": [
    "TN = confusion_matrix_[0,0]\n",
    "print(\"True Negatives = \", TN)\n",
    "\n",
    "FN = confusion_matrix_[1,0]\n",
    "print(\"False Negatives = \", FN)\n",
    "\n",
    "FP = confusion_matrix_[0,1]\n",
    "print(\"False Positives = \", FP)\n",
    "\n",
    "TP = confusion_matrix_[1,1]\n",
    "print(\"True Positives = \", TP)"
   ]
  },
  {
   "cell_type": "markdown",
   "id": "a6004a97",
   "metadata": {
    "id": "a6004a97"
   },
   "source": [
    "#### True Positive Rate, False Positive Rate"
   ]
  },
  {
   "cell_type": "code",
   "execution_count": 215,
   "id": "f5435353",
   "metadata": {
    "colab": {
     "base_uri": "https://localhost:8080/"
    },
    "id": "f5435353",
    "outputId": "b557a637-256a-42ed-dbbf-22bb1d483f63"
   },
   "outputs": [
    {
     "name": "stdout",
     "output_type": "stream",
     "text": [
      "True Positive Rate =  0.83\n",
      "False Positive Rate =  0.34\n"
     ]
    }
   ],
   "source": [
    "TPR = np.round(TP/(TP+FN), 2)\n",
    "FPR = np.round(FP/(FP+TN), 2)\n",
    "\n",
    "print(\"True Positive Rate = \", TPR)\n",
    "print(\"False Positive Rate = \", FPR)"
   ]
  },
  {
   "cell_type": "code",
   "execution_count": 216,
   "id": "d9641fbf",
   "metadata": {},
   "outputs": [],
   "source": [
    "# plot_confusion_matrix(grid_result, \n",
    "#                       X_test, \n",
    "#                       y_test, \n",
    "#                       display_labels=[\"No Flood\", \"Flood\"],\n",
    "#                       cmap='Blues')\n",
    "# plt.show()"
   ]
  },
  {
   "cell_type": "markdown",
   "id": "499cdea8",
   "metadata": {
    "id": "499cdea8"
   },
   "source": [
    "#### Decision Tree"
   ]
  },
  {
   "cell_type": "code",
   "execution_count": 217,
   "id": "4dc0ebe3",
   "metadata": {
    "id": "4dc0ebe3"
   },
   "outputs": [
    {
     "data": {
      "text/plain": [
       "(800, 9)"
      ]
     },
     "execution_count": 217,
     "metadata": {},
     "output_type": "execute_result"
    }
   ],
   "source": [
    "X = df_feat.drop(['Potability'],axis=1)\n",
    "y = df_feat['Potability']\n",
    "X_train, X_test, y_train, y_test = train_test_split(X, y, test_size=0.2, random_state=50)\n",
    "X_test.shape"
   ]
  },
  {
   "cell_type": "code",
   "execution_count": 218,
   "id": "c48e831f",
   "metadata": {
    "id": "c48e831f",
    "outputId": "88df8bf7-7d96-4445-f779-adc125e233f8"
   },
   "outputs": [
    {
     "data": {
      "text/html": [
       "<style>#sk-container-id-10 {color: black;background-color: white;}#sk-container-id-10 pre{padding: 0;}#sk-container-id-10 div.sk-toggleable {background-color: white;}#sk-container-id-10 label.sk-toggleable__label {cursor: pointer;display: block;width: 100%;margin-bottom: 0;padding: 0.3em;box-sizing: border-box;text-align: center;}#sk-container-id-10 label.sk-toggleable__label-arrow:before {content: \"▸\";float: left;margin-right: 0.25em;color: #696969;}#sk-container-id-10 label.sk-toggleable__label-arrow:hover:before {color: black;}#sk-container-id-10 div.sk-estimator:hover label.sk-toggleable__label-arrow:before {color: black;}#sk-container-id-10 div.sk-toggleable__content {max-height: 0;max-width: 0;overflow: hidden;text-align: left;background-color: #f0f8ff;}#sk-container-id-10 div.sk-toggleable__content pre {margin: 0.2em;color: black;border-radius: 0.25em;background-color: #f0f8ff;}#sk-container-id-10 input.sk-toggleable__control:checked~div.sk-toggleable__content {max-height: 200px;max-width: 100%;overflow: auto;}#sk-container-id-10 input.sk-toggleable__control:checked~label.sk-toggleable__label-arrow:before {content: \"▾\";}#sk-container-id-10 div.sk-estimator input.sk-toggleable__control:checked~label.sk-toggleable__label {background-color: #d4ebff;}#sk-container-id-10 div.sk-label input.sk-toggleable__control:checked~label.sk-toggleable__label {background-color: #d4ebff;}#sk-container-id-10 input.sk-hidden--visually {border: 0;clip: rect(1px 1px 1px 1px);clip: rect(1px, 1px, 1px, 1px);height: 1px;margin: -1px;overflow: hidden;padding: 0;position: absolute;width: 1px;}#sk-container-id-10 div.sk-estimator {font-family: monospace;background-color: #f0f8ff;border: 1px dotted black;border-radius: 0.25em;box-sizing: border-box;margin-bottom: 0.5em;}#sk-container-id-10 div.sk-estimator:hover {background-color: #d4ebff;}#sk-container-id-10 div.sk-parallel-item::after {content: \"\";width: 100%;border-bottom: 1px solid gray;flex-grow: 1;}#sk-container-id-10 div.sk-label:hover label.sk-toggleable__label {background-color: #d4ebff;}#sk-container-id-10 div.sk-serial::before {content: \"\";position: absolute;border-left: 1px solid gray;box-sizing: border-box;top: 0;bottom: 0;left: 50%;z-index: 0;}#sk-container-id-10 div.sk-serial {display: flex;flex-direction: column;align-items: center;background-color: white;padding-right: 0.2em;padding-left: 0.2em;position: relative;}#sk-container-id-10 div.sk-item {position: relative;z-index: 1;}#sk-container-id-10 div.sk-parallel {display: flex;align-items: stretch;justify-content: center;background-color: white;position: relative;}#sk-container-id-10 div.sk-item::before, #sk-container-id-10 div.sk-parallel-item::before {content: \"\";position: absolute;border-left: 1px solid gray;box-sizing: border-box;top: 0;bottom: 0;left: 50%;z-index: -1;}#sk-container-id-10 div.sk-parallel-item {display: flex;flex-direction: column;z-index: 1;position: relative;background-color: white;}#sk-container-id-10 div.sk-parallel-item:first-child::after {align-self: flex-end;width: 50%;}#sk-container-id-10 div.sk-parallel-item:last-child::after {align-self: flex-start;width: 50%;}#sk-container-id-10 div.sk-parallel-item:only-child::after {width: 0;}#sk-container-id-10 div.sk-dashed-wrapped {border: 1px dashed gray;margin: 0 0.4em 0.5em 0.4em;box-sizing: border-box;padding-bottom: 0.4em;background-color: white;}#sk-container-id-10 div.sk-label label {font-family: monospace;font-weight: bold;display: inline-block;line-height: 1.2em;}#sk-container-id-10 div.sk-label-container {text-align: center;}#sk-container-id-10 div.sk-container {/* jupyter's `normalize.less` sets `[hidden] { display: none; }` but bootstrap.min.css set `[hidden] { display: none !important; }` so we also need the `!important` here to be able to override the default hidden behavior on the sphinx rendered scikit-learn.org. See: https://github.com/scikit-learn/scikit-learn/issues/21755 */display: inline-block !important;position: relative;}#sk-container-id-10 div.sk-text-repr-fallback {display: none;}</style><div id=\"sk-container-id-10\" class=\"sk-top-container\"><div class=\"sk-text-repr-fallback\"><pre>DecisionTreeClassifier(random_state=50)</pre><b>In a Jupyter environment, please rerun this cell to show the HTML representation or trust the notebook. <br />On GitHub, the HTML representation is unable to render, please try loading this page with nbviewer.org.</b></div><div class=\"sk-container\" hidden><div class=\"sk-item\"><div class=\"sk-estimator sk-toggleable\"><input class=\"sk-toggleable__control sk-hidden--visually\" id=\"sk-estimator-id-10\" type=\"checkbox\" checked><label for=\"sk-estimator-id-10\" class=\"sk-toggleable__label sk-toggleable__label-arrow\">DecisionTreeClassifier</label><div class=\"sk-toggleable__content\"><pre>DecisionTreeClassifier(random_state=50)</pre></div></div></div></div></div>"
      ],
      "text/plain": [
       "DecisionTreeClassifier(random_state=50)"
      ]
     },
     "execution_count": 218,
     "metadata": {},
     "output_type": "execute_result"
    }
   ],
   "source": [
    "from sklearn.tree import DecisionTreeClassifier\n",
    "dtree = DecisionTreeClassifier(random_state=50)\n",
    "dtree.fit(X_train,y_train)"
   ]
  },
  {
   "cell_type": "code",
   "execution_count": 219,
   "id": "a049e798",
   "metadata": {
    "id": "a049e798",
    "outputId": "3dfec343-e771-40d3-ca53-d6918686c744"
   },
   "outputs": [
    {
     "data": {
      "image/png": "[encoded data removed]",
      "text/plain": [
       "<Figure size 1080x1080 with 1 Axes>"
      ]
     },
     "metadata": {
      "needs_background": "light"
     },
     "output_type": "display_data"
    }
   ],
   "source": [
    "from sklearn.tree import plot_tree\n",
    "plt.figure(figsize=(15, 15))\n",
    "plot_tree(dtree, filled=True, rounded=True, class_names = [\"Not potable\", 'Potable'],\n",
    "         feature_names = X.columns, max_depth=2, fontsize=12)\n",
    "\n",
    "plt.show()"
   ]
  },
  {
   "cell_type": "code",
   "execution_count": 220,
   "id": "2b733b5c",
   "metadata": {
    "id": "2b733b5c"
   },
   "outputs": [],
   "source": [
    "dpred = dtree.predict(X_test)"
   ]
  },
  {
   "cell_type": "markdown",
   "id": "240c95da",
   "metadata": {
    "id": "240c95da"
   },
   "source": [
    "#### Confusion Matrix"
   ]
  },
  {
   "cell_type": "code",
   "execution_count": 221,
   "id": "8d3cb3ae",
   "metadata": {
    "id": "8d3cb3ae",
    "outputId": "aa4d2f57-6f79-463f-963b-bf72a81c4e78"
   },
   "outputs": [
    {
     "name": "stdout",
     "output_type": "stream",
     "text": [
      "confusion_matrix: \n",
      " [[224 181]\n",
      " [126 269]]\n",
      "              precision    recall  f1-score   support\n",
      "\n",
      "           0       0.64      0.55      0.59       405\n",
      "           1       0.60      0.68      0.64       395\n",
      "\n",
      "    accuracy                           0.62       800\n",
      "   macro avg       0.62      0.62      0.62       800\n",
      "weighted avg       0.62      0.62      0.61       800\n",
      "\n"
     ]
    }
   ],
   "source": [
    "confusion_matrix_ = confusion_matrix(y_test, dpred)\n",
    "print('confusion_matrix: \\n', confusion_matrix_)\n",
    "print(classification_report(y_test, dpred))"
   ]
  },
  {
   "cell_type": "code",
   "execution_count": 222,
   "id": "756bbfaf",
   "metadata": {
    "id": "756bbfaf",
    "outputId": "2da6c99d-6981-4e39-b705-c869379cd6e0"
   },
   "outputs": [
    {
     "name": "stdout",
     "output_type": "stream",
     "text": [
      "True Negatives =  224\n",
      "False Negatives =  126\n",
      "False Positives =  181\n",
      "True Positives =  269\n"
     ]
    }
   ],
   "source": [
    "DTN = confusion_matrix_[0,0]\n",
    "print(\"True Negatives = \", DTN)\n",
    "\n",
    "DFN = confusion_matrix_[1,0]\n",
    "print(\"False Negatives = \", DFN)\n",
    "\n",
    "DFP = confusion_matrix_[0,1]\n",
    "print(\"False Positives = \", DFP)\n",
    "\n",
    "DTP = confusion_matrix_[1,1]\n",
    "print(\"True Positives = \", DTP)"
   ]
  },
  {
   "cell_type": "markdown",
   "id": "ce1deb3a",
   "metadata": {
    "id": "ce1deb3a"
   },
   "source": [
    "#### Test Accuracy"
   ]
  },
  {
   "cell_type": "code",
   "execution_count": 223,
   "id": "35503c93",
   "metadata": {
    "id": "35503c93",
    "outputId": "d3a914c1-5a95-46b4-d3d5-228b02326fac"
   },
   "outputs": [
    {
     "name": "stdout",
     "output_type": "stream",
     "text": [
      "0.61625\n"
     ]
    }
   ],
   "source": [
    "accuracy = accuracy_score(y_test,dpred)\n",
    "print(accuracy)"
   ]
  },
  {
   "cell_type": "markdown",
   "id": "cff5cf5b",
   "metadata": {
    "id": "cff5cf5b"
   },
   "source": [
    "#### True Positive Rate, False Positive Rate"
   ]
  },
  {
   "cell_type": "code",
   "execution_count": 224,
   "id": "9812926f",
   "metadata": {
    "id": "9812926f",
    "outputId": "1179a5d7-6dcc-421f-e556-4a16dfae0c80"
   },
   "outputs": [
    {
     "name": "stdout",
     "output_type": "stream",
     "text": [
      "True Positive Rate =  0.68\n",
      "False Positive Rate =  0.45\n"
     ]
    }
   ],
   "source": [
    "DTPR = np.round(DTP/(DTP+DFN), 2)\n",
    "DFPR = np.round(DFP/(DFP+DTN), 2)\n",
    "\n",
    "print(\"True Positive Rate = \", DTPR)\n",
    "print(\"False Positive Rate = \", DFPR)"
   ]
  },
  {
   "cell_type": "markdown",
   "id": "23b76a20",
   "metadata": {
    "id": "23b76a20"
   },
   "source": [
    "#### ROC: Receiver operating Characteristics and AUC: Area Under the Curve"
   ]
  },
  {
   "cell_type": "code",
   "execution_count": 225,
   "id": "26437637",
   "metadata": {
    "id": "26437637",
    "outputId": "96ffa98a-abfb-46d2-ae0a-e8e567d91809"
   },
   "outputs": [
    {
     "data": {
      "image/png": "[encoded data removed]",
      "text/plain": [
       "<Figure size 720x576 with 1 Axes>"
      ]
     },
     "metadata": {
      "needs_background": "light"
     },
     "output_type": "display_data"
    }
   ],
   "source": [
    "fpr, tpr, thr = roc_curve(y_test, dpred)\n",
    "auc = np.round(roc_auc_score(y_test, dpred), 2)\n",
    "\n",
    "plt.figure(figsize=(10, 8))\n",
    "plt.plot(fpr, \n",
    "         tpr, \n",
    "         color='green', \n",
    "         lw=2, \n",
    "         label=\"Curve Area = \" +str(auc))\n",
    "\n",
    "plt.plot([0, 1], [0, 1], color='blue', lw=2, linestyle='--')\n",
    "plt.xlabel('False Positive Rate (FPR)')\n",
    "plt.ylabel('True Positive Rate (TPR)')\n",
    "plt.title('ROC curve')\n",
    "plt.legend(loc=\"lower right\")\n",
    "plt.show()"
   ]
  },
  {
   "cell_type": "markdown",
   "id": "7c528fbe",
   "metadata": {
    "id": "7c528fbe"
   },
   "source": [
    "#### Hyperparameter Tuning"
   ]
  },
  {
   "cell_type": "code",
   "execution_count": 226,
   "id": "f730d896",
   "metadata": {
    "scrolled": true
   },
   "outputs": [
    {
     "name": "stdout",
     "output_type": "stream",
     "text": [
      "              precision    recall  f1-score   support\n",
      "\n",
      "           0       0.60      0.56      0.58       405\n",
      "           1       0.58      0.62      0.60       395\n",
      "\n",
      "    accuracy                           0.59       800\n",
      "   macro avg       0.59      0.59      0.59       800\n",
      "weighted avg       0.59      0.59      0.59       800\n",
      "\n",
      "[[228 177]\n",
      " [152 243]]\n",
      "{'criterion': 'gini', 'max_depth': 17, 'max_features': 'auto'}\n"
     ]
    }
   ],
   "source": [
    "from sklearn.model_selection import GridSearchCV\n",
    "from sklearn.model_selection import RepeatedStratifiedKFold\n",
    "seed=50\n",
    "dtree_params = {   \n",
    "    \"max_depth\": range(1, 20, 2),\n",
    "    \"criterion\": ['gini','entropy'],\n",
    "    \"max_features\": ['auto'],\n",
    "    \"max_depth\": range(3,20 , 1),\n",
    "   \n",
    "}\n",
    "\n",
    "dtree = DecisionTreeClassifier()\n",
    "\n",
    "cv = RepeatedStratifiedKFold(n_splits=10, n_repeats=3, random_state=seed)\n",
    "grid_search = GridSearchCV(estimator=dtree, param_grid=dtree_params, n_jobs=1, cv=cv, scoring=\"accuracy\", error_score=0)\n",
    "grid_result = grid_search.fit(X_train,y_train)\n",
    "\n",
    "dfinal_model = dtree.set_params(**grid_result.best_params_)\n",
    "dfinal_model.fit(X_train,y_train)\n",
    "dpredh = dfinal_model.predict(X_test)\n",
    "\n",
    "print(classification_report(y_test, dpredh))\n",
    "print(confusion_matrix(y_test, dpredh))\n",
    "\n",
    "print(grid_result.best_params_)"
   ]
  },
  {
   "cell_type": "markdown",
   "id": "764db493",
   "metadata": {},
   "source": [
    "#### 'criterion': 'gini', 'max_depth': 17, 'max_features': 'auto'"
   ]
  },
  {
   "cell_type": "code",
   "execution_count": 227,
   "id": "13a11478",
   "metadata": {},
   "outputs": [
    {
     "data": {
      "text/plain": [
       "(800, 9)"
      ]
     },
     "execution_count": 227,
     "metadata": {},
     "output_type": "execute_result"
    }
   ],
   "source": [
    "X = df_feat.drop(['Potability'],axis=1)\n",
    "y = df_feat['Potability']\n",
    "X_train, X_test, y_train, y_test = train_test_split(X, y, test_size=0.2, random_state=50)\n",
    "X_test.shape"
   ]
  },
  {
   "cell_type": "code",
   "execution_count": 228,
   "id": "618ff17c",
   "metadata": {},
   "outputs": [],
   "source": [
    "# dtreeh = DecisionTreeClassifier(criterion = 'gini', max_depth = 19, max_features = 'auto')\n",
    "# dtreeh.fit(X_train,y_train)"
   ]
  },
  {
   "cell_type": "markdown",
   "id": "96b3b33f",
   "metadata": {},
   "source": [
    "#### Training Accuracy"
   ]
  },
  {
   "cell_type": "code",
   "execution_count": 229,
   "id": "498c4c37",
   "metadata": {},
   "outputs": [],
   "source": [
    "dpredh = dfinal_model.predict(X_train)"
   ]
  },
  {
   "cell_type": "code",
   "execution_count": 230,
   "id": "e5af7d1f",
   "metadata": {},
   "outputs": [
    {
     "name": "stdout",
     "output_type": "stream",
     "text": [
      "0.9568210262828536\n"
     ]
    }
   ],
   "source": [
    "accuracy = accuracy_score(y_train,dpredh)\n",
    "print(accuracy)"
   ]
  },
  {
   "cell_type": "markdown",
   "id": "a6bee157",
   "metadata": {},
   "source": [
    "#### Cross Validation"
   ]
  },
  {
   "cell_type": "code",
   "execution_count": 231,
   "id": "4d4a8e01",
   "metadata": {},
   "outputs": [],
   "source": [
    "from sklearn.model_selection import cross_val_score,cross_val_predict\n",
    "dtc_acc=cross_val_score(dfinal_model,X_train,y_train,cv=5,scoring='accuracy',n_jobs=-1)\n",
    "dtc_proba=cross_val_predict(dfinal_model,X_train,y_train,cv=5,method='predict_proba')"
   ]
  },
  {
   "cell_type": "markdown",
   "id": "4cc935f1",
   "metadata": {},
   "source": [
    "#### Validation Accuracy"
   ]
  },
  {
   "cell_type": "code",
   "execution_count": 232,
   "id": "6c12ce95",
   "metadata": {},
   "outputs": [
    {
     "data": {
      "text/plain": [
       "array([0.575     , 0.62597809, 0.58841941, 0.59311424, 0.61502347])"
      ]
     },
     "execution_count": 232,
     "metadata": {},
     "output_type": "execute_result"
    }
   ],
   "source": [
    "dtc_acc"
   ]
  },
  {
   "cell_type": "code",
   "execution_count": 233,
   "id": "dc46e4c3",
   "metadata": {},
   "outputs": [
    {
     "data": {
      "text/plain": [
       "0.599507042253521"
      ]
     },
     "execution_count": 233,
     "metadata": {},
     "output_type": "execute_result"
    }
   ],
   "source": [
    "dtc_acc.mean()"
   ]
  },
  {
   "cell_type": "markdown",
   "id": "53a2dc5c",
   "metadata": {},
   "source": [
    "#### Test Accuracy"
   ]
  },
  {
   "cell_type": "code",
   "execution_count": 234,
   "id": "97d29571",
   "metadata": {},
   "outputs": [],
   "source": [
    "dpredht = dfinal_model.predict(X_test)"
   ]
  },
  {
   "cell_type": "code",
   "execution_count": 235,
   "id": "9c80fa05",
   "metadata": {
    "id": "9c80fa05",
    "outputId": "768df9ae-b968-46e5-d038-2fb88c3bfd19"
   },
   "outputs": [
    {
     "name": "stdout",
     "output_type": "stream",
     "text": [
      "0.58875\n"
     ]
    }
   ],
   "source": [
    "accuracy = accuracy_score(y_test,dpredht)\n",
    "print(accuracy)"
   ]
  },
  {
   "cell_type": "code",
   "execution_count": 236,
   "id": "ff92fe4f",
   "metadata": {},
   "outputs": [
    {
     "name": "stdout",
     "output_type": "stream",
     "text": [
      "confusion_matrix: \n",
      " [[228 177]\n",
      " [152 243]]\n",
      "              precision    recall  f1-score   support\n",
      "\n",
      "           0       0.60      0.56      0.58       405\n",
      "           1       0.58      0.62      0.60       395\n",
      "\n",
      "    accuracy                           0.59       800\n",
      "   macro avg       0.59      0.59      0.59       800\n",
      "weighted avg       0.59      0.59      0.59       800\n",
      "\n"
     ]
    }
   ],
   "source": [
    "confusion_matrix_ = confusion_matrix(y_test, dpredht)\n",
    "print('confusion_matrix: \\n', confusion_matrix_)\n",
    "print(classification_report(y_test, dpredht))"
   ]
  },
  {
   "cell_type": "code",
   "execution_count": 237,
   "id": "53683edb",
   "metadata": {},
   "outputs": [],
   "source": [
    "# plot_confusion_matrix(dtreeh, \n",
    "#                       X_test, \n",
    "#                       y_test, \n",
    "#                       display_labels=[\"No Flood\", \"Flood\"],\n",
    "#                       cmap='Blues')\n",
    "# plt.show()"
   ]
  },
  {
   "cell_type": "code",
   "execution_count": 238,
   "id": "b7454bfa",
   "metadata": {
    "id": "b7454bfa",
    "outputId": "3d235b04-92f6-4081-d753-da281f010e47"
   },
   "outputs": [
    {
     "data": {
      "image/png": "[encoded data removed]",
      "text/plain": [
       "<Figure size 720x576 with 1 Axes>"
      ]
     },
     "metadata": {
      "needs_background": "light"
     },
     "output_type": "display_data"
    }
   ],
   "source": [
    "fpr, tpr, thr = roc_curve(y_test, grid_result.predict_proba(X_test)[:,1])\n",
    "auc = np.round(roc_auc_score(y_test, dpredht), 2)\n",
    "\n",
    "plt.figure(figsize=(10, 8))\n",
    "plt.plot(fpr, \n",
    "         tpr, \n",
    "         color='green', \n",
    "         lw=2, \n",
    "         label=\"Curve Area = \" +str(auc))\n",
    "\n",
    "plt.plot([0, 1], [0, 1], color='blue', lw=2, linestyle='--')\n",
    "plt.xlabel('False Positive Rate (FPR)')\n",
    "plt.ylabel('True Positive Rate (TPR)')\n",
    "plt.title('ROC curve')\n",
    "plt.legend(loc=\"lower right\")\n",
    "plt.show()"
   ]
  },
  {
   "cell_type": "markdown",
   "id": "6fce1fbb",
   "metadata": {
    "id": "6fce1fbb"
   },
   "source": [
    "#### Random Forest"
   ]
  },
  {
   "cell_type": "code",
   "execution_count": 239,
   "id": "db660b44",
   "metadata": {
    "id": "db660b44"
   },
   "outputs": [
    {
     "data": {
      "text/plain": [
       "(800, 9)"
      ]
     },
     "execution_count": 239,
     "metadata": {},
     "output_type": "execute_result"
    }
   ],
   "source": [
    "X = df_feat.drop(['Potability'],axis=1)\n",
    "y = df_feat['Potability']\n",
    "X_train, X_test, y_train, y_test = train_test_split(X, y, test_size=0.2, random_state=50)\n",
    "X_test.shape"
   ]
  },
  {
   "cell_type": "code",
   "execution_count": 240,
   "id": "9a8ded3f",
   "metadata": {
    "id": "9a8ded3f",
    "outputId": "e5af7b2c-d9a7-4782-e208-9d78cc5137dd"
   },
   "outputs": [
    {
     "data": {
      "text/html": [
       "<style>#sk-container-id-11 {color: black;background-color: white;}#sk-container-id-11 pre{padding: 0;}#sk-container-id-11 div.sk-toggleable {background-color: white;}#sk-container-id-11 label.sk-toggleable__label {cursor: pointer;display: block;width: 100%;margin-bottom: 0;padding: 0.3em;box-sizing: border-box;text-align: center;}#sk-container-id-11 label.sk-toggleable__label-arrow:before {content: \"▸\";float: left;margin-right: 0.25em;color: #696969;}#sk-container-id-11 label.sk-toggleable__label-arrow:hover:before {color: black;}#sk-container-id-11 div.sk-estimator:hover label.sk-toggleable__label-arrow:before {color: black;}#sk-container-id-11 div.sk-toggleable__content {max-height: 0;max-width: 0;overflow: hidden;text-align: left;background-color: #f0f8ff;}#sk-container-id-11 div.sk-toggleable__content pre {margin: 0.2em;color: black;border-radius: 0.25em;background-color: #f0f8ff;}#sk-container-id-11 input.sk-toggleable__control:checked~div.sk-toggleable__content {max-height: 200px;max-width: 100%;overflow: auto;}#sk-container-id-11 input.sk-toggleable__control:checked~label.sk-toggleable__label-arrow:before {content: \"▾\";}#sk-container-id-11 div.sk-estimator input.sk-toggleable__control:checked~label.sk-toggleable__label {background-color: #d4ebff;}#sk-container-id-11 div.sk-label input.sk-toggleable__control:checked~label.sk-toggleable__label {background-color: #d4ebff;}#sk-container-id-11 input.sk-hidden--visually {border: 0;clip: rect(1px 1px 1px 1px);clip: rect(1px, 1px, 1px, 1px);height: 1px;margin: -1px;overflow: hidden;padding: 0;position: absolute;width: 1px;}#sk-container-id-11 div.sk-estimator {font-family: monospace;background-color: #f0f8ff;border: 1px dotted black;border-radius: 0.25em;box-sizing: border-box;margin-bottom: 0.5em;}#sk-container-id-11 div.sk-estimator:hover {background-color: #d4ebff;}#sk-container-id-11 div.sk-parallel-item::after {content: \"\";width: 100%;border-bottom: 1px solid gray;flex-grow: 1;}#sk-container-id-11 div.sk-label:hover label.sk-toggleable__label {background-color: #d4ebff;}#sk-container-id-11 div.sk-serial::before {content: \"\";position: absolute;border-left: 1px solid gray;box-sizing: border-box;top: 0;bottom: 0;left: 50%;z-index: 0;}#sk-container-id-11 div.sk-serial {display: flex;flex-direction: column;align-items: center;background-color: white;padding-right: 0.2em;padding-left: 0.2em;position: relative;}#sk-container-id-11 div.sk-item {position: relative;z-index: 1;}#sk-container-id-11 div.sk-parallel {display: flex;align-items: stretch;justify-content: center;background-color: white;position: relative;}#sk-container-id-11 div.sk-item::before, #sk-container-id-11 div.sk-parallel-item::before {content: \"\";position: absolute;border-left: 1px solid gray;box-sizing: border-box;top: 0;bottom: 0;left: 50%;z-index: -1;}#sk-container-id-11 div.sk-parallel-item {display: flex;flex-direction: column;z-index: 1;position: relative;background-color: white;}#sk-container-id-11 div.sk-parallel-item:first-child::after {align-self: flex-end;width: 50%;}#sk-container-id-11 div.sk-parallel-item:last-child::after {align-self: flex-start;width: 50%;}#sk-container-id-11 div.sk-parallel-item:only-child::after {width: 0;}#sk-container-id-11 div.sk-dashed-wrapped {border: 1px dashed gray;margin: 0 0.4em 0.5em 0.4em;box-sizing: border-box;padding-bottom: 0.4em;background-color: white;}#sk-container-id-11 div.sk-label label {font-family: monospace;font-weight: bold;display: inline-block;line-height: 1.2em;}#sk-container-id-11 div.sk-label-container {text-align: center;}#sk-container-id-11 div.sk-container {/* jupyter's `normalize.less` sets `[hidden] { display: none; }` but bootstrap.min.css set `[hidden] { display: none !important; }` so we also need the `!important` here to be able to override the default hidden behavior on the sphinx rendered scikit-learn.org. See: https://github.com/scikit-learn/scikit-learn/issues/21755 */display: inline-block !important;position: relative;}#sk-container-id-11 div.sk-text-repr-fallback {display: none;}</style><div id=\"sk-container-id-11\" class=\"sk-top-container\"><div class=\"sk-text-repr-fallback\"><pre>RandomForestClassifier(random_state=50)</pre><b>In a Jupyter environment, please rerun this cell to show the HTML representation or trust the notebook. <br />On GitHub, the HTML representation is unable to render, please try loading this page with nbviewer.org.</b></div><div class=\"sk-container\" hidden><div class=\"sk-item\"><div class=\"sk-estimator sk-toggleable\"><input class=\"sk-toggleable__control sk-hidden--visually\" id=\"sk-estimator-id-11\" type=\"checkbox\" checked><label for=\"sk-estimator-id-11\" class=\"sk-toggleable__label sk-toggleable__label-arrow\">RandomForestClassifier</label><div class=\"sk-toggleable__content\"><pre>RandomForestClassifier(random_state=50)</pre></div></div></div></div></div>"
      ],
      "text/plain": [
       "RandomForestClassifier(random_state=50)"
      ]
     },
     "execution_count": 240,
     "metadata": {},
     "output_type": "execute_result"
    }
   ],
   "source": [
    "from sklearn.ensemble import RandomForestClassifier\n",
    "#rfc = RandomForestClassifier(n_estimators=200)\n",
    "#n_estimators=48, 83, 100, 120\n",
    "rfc = RandomForestClassifier(random_state=50)\n",
    "rfc.fit(X_train,y_train)"
   ]
  },
  {
   "cell_type": "markdown",
   "id": "10bcc38e",
   "metadata": {},
   "source": [
    "#### Training Accuracy"
   ]
  },
  {
   "cell_type": "code",
   "execution_count": 241,
   "id": "ca4e6810",
   "metadata": {},
   "outputs": [],
   "source": [
    "rfc_pred = rfc.predict(X_train)"
   ]
  },
  {
   "cell_type": "code",
   "execution_count": 242,
   "id": "047ab7f1",
   "metadata": {},
   "outputs": [
    {
     "name": "stdout",
     "output_type": "stream",
     "text": [
      "1.0\n"
     ]
    }
   ],
   "source": [
    "accuracy = accuracy_score(y_train,rfc_pred)\n",
    "print(accuracy)"
   ]
  },
  {
   "cell_type": "markdown",
   "id": "b73a39fc",
   "metadata": {},
   "source": [
    "#### Cross Validation"
   ]
  },
  {
   "cell_type": "code",
   "execution_count": 243,
   "id": "c2861ec2",
   "metadata": {},
   "outputs": [],
   "source": [
    "from sklearn.model_selection import cross_val_score,cross_val_predict\n",
    "rfc_acc=cross_val_score(rfc,X_train,y_train,cv=5,scoring='accuracy',n_jobs=-1)\n",
    "rfc_proba=cross_val_predict(rfc,X_train,y_train,cv=5,method='predict_proba')"
   ]
  },
  {
   "cell_type": "markdown",
   "id": "a619b4bc",
   "metadata": {},
   "source": [
    "#### Validation Accuracy"
   ]
  },
  {
   "cell_type": "code",
   "execution_count": 244,
   "id": "95b9fd24",
   "metadata": {},
   "outputs": [
    {
     "data": {
      "text/plain": [
       "array([0.6828125 , 0.69953052, 0.7198748 , 0.74334898, 0.71674491])"
      ]
     },
     "execution_count": 244,
     "metadata": {},
     "output_type": "execute_result"
    }
   ],
   "source": [
    "rfc_acc"
   ]
  },
  {
   "cell_type": "code",
   "execution_count": 245,
   "id": "1324ab61",
   "metadata": {},
   "outputs": [
    {
     "data": {
      "text/plain": [
       "0.7124623435054772"
      ]
     },
     "execution_count": 245,
     "metadata": {},
     "output_type": "execute_result"
    }
   ],
   "source": [
    "rfc_acc.mean()"
   ]
  },
  {
   "cell_type": "markdown",
   "id": "0e0955d0",
   "metadata": {},
   "source": [
    "#### Test Accuracy"
   ]
  },
  {
   "cell_type": "code",
   "execution_count": 246,
   "id": "88d898c7",
   "metadata": {},
   "outputs": [],
   "source": [
    "rfc_pred = rfc.predict(X_test)"
   ]
  },
  {
   "cell_type": "code",
   "execution_count": 247,
   "id": "27a0ec06",
   "metadata": {},
   "outputs": [
    {
     "name": "stdout",
     "output_type": "stream",
     "text": [
      "0.74125\n"
     ]
    }
   ],
   "source": [
    "accuracy = accuracy_score(y_test,rfc_pred)\n",
    "print(accuracy)"
   ]
  },
  {
   "cell_type": "markdown",
   "id": "cc5ae134",
   "metadata": {
    "id": "cc5ae134"
   },
   "source": [
    "#### Confusion Matrix"
   ]
  },
  {
   "cell_type": "code",
   "execution_count": 248,
   "id": "6b02750d",
   "metadata": {
    "id": "6b02750d",
    "outputId": "c44aae72-ec4d-498c-ccca-1ba5b7d4b75c"
   },
   "outputs": [
    {
     "name": "stdout",
     "output_type": "stream",
     "text": [
      "confusion_matrix: \n",
      " [[297 108]\n",
      " [ 99 296]]\n",
      "              precision    recall  f1-score   support\n",
      "\n",
      "           0       0.75      0.73      0.74       405\n",
      "           1       0.73      0.75      0.74       395\n",
      "\n",
      "    accuracy                           0.74       800\n",
      "   macro avg       0.74      0.74      0.74       800\n",
      "weighted avg       0.74      0.74      0.74       800\n",
      "\n"
     ]
    }
   ],
   "source": [
    "confusion_matrix_ = confusion_matrix(y_test, rfc_pred)\n",
    "\n",
    "print('confusion_matrix: \\n', confusion_matrix_)\n",
    "print(classification_report(y_test, rfc_pred))"
   ]
  },
  {
   "cell_type": "code",
   "execution_count": 249,
   "id": "bbf261b4",
   "metadata": {
    "id": "bbf261b4",
    "outputId": "1bca5bfe-d7c4-41ca-bd5e-20321fc3556b"
   },
   "outputs": [
    {
     "name": "stdout",
     "output_type": "stream",
     "text": [
      "True Negatives =  297\n",
      "False Negatives =  99\n",
      "False Positives =  108\n",
      "True Positives =  296\n"
     ]
    }
   ],
   "source": [
    "TN = confusion_matrix_[0,0]\n",
    "print(\"True Negatives = \", TN)\n",
    "\n",
    "FN = confusion_matrix_[1,0]\n",
    "print(\"False Negatives = \", FN)\n",
    "\n",
    "FP = confusion_matrix_[0,1]\n",
    "print(\"False Positives = \", FP)\n",
    "\n",
    "TP = confusion_matrix_[1,1]\n",
    "print(\"True Positives = \", TP)"
   ]
  },
  {
   "cell_type": "markdown",
   "id": "d6fa4856",
   "metadata": {
    "id": "d6fa4856"
   },
   "source": [
    "#### True Positive Rate, False Positive Rate"
   ]
  },
  {
   "cell_type": "code",
   "execution_count": 250,
   "id": "06993b97",
   "metadata": {
    "id": "06993b97",
    "outputId": "746e57ef-5649-40c9-d650-51326bce4585"
   },
   "outputs": [
    {
     "name": "stdout",
     "output_type": "stream",
     "text": [
      "True Positive Rate =  0.75\n",
      "False Positive Rate =  0.27\n"
     ]
    }
   ],
   "source": [
    "TPR = np.round(TP/(TP+FN), 2)\n",
    "FPR = np.round(FP/(FP+TN), 2)\n",
    "\n",
    "print(\"True Positive Rate = \", TPR)\n",
    "print(\"False Positive Rate = \", FPR)"
   ]
  },
  {
   "cell_type": "markdown",
   "id": "78ed332e",
   "metadata": {
    "id": "78ed332e"
   },
   "source": [
    "#### ROC: Receiver operating Characteristics and AUC: Area Under the Curve"
   ]
  },
  {
   "cell_type": "code",
   "execution_count": 251,
   "id": "d3deb2c1",
   "metadata": {
    "id": "d3deb2c1",
    "outputId": "32395eed-da0b-46c1-9a5f-4c990005660d"
   },
   "outputs": [
    {
     "data": {
      "image/png": "[encoded data removed]",
      "text/plain": [
       "<Figure size 720x576 with 1 Axes>"
      ]
     },
     "metadata": {
      "needs_background": "light"
     },
     "output_type": "display_data"
    }
   ],
   "source": [
    "fpr, tpr, thr = roc_curve(y_test, rfc_pred)\n",
    "auc = np.round(roc_auc_score(y_test, rfc_pred), 2)\n",
    "\n",
    "plt.figure(figsize=(10, 8))\n",
    "plt.plot(fpr, \n",
    "         tpr, \n",
    "         color='green', \n",
    "         lw=2, \n",
    "         label=\"Curve Area = \" +str(auc))\n",
    "\n",
    "plt.plot([0, 1], [0, 1], color='blue', lw=2, linestyle='--')\n",
    "plt.xlabel('False Positive Rate (FPR)')\n",
    "plt.ylabel('True Positive Rate (TPR)')\n",
    "plt.title('ROC curve')\n",
    "plt.legend(loc=\"lower right\")\n",
    "plt.show()\n"
   ]
  },
  {
   "cell_type": "code",
   "execution_count": 252,
   "id": "0ea1f13f",
   "metadata": {},
   "outputs": [],
   "source": [
    "# plot_confusion_matrix(rfc, \n",
    "#                       X_test, \n",
    "#                       y_test, \n",
    "#                       display_labels=[\"No Flood\", \"Flood\"],\n",
    "#                       cmap='Blues')\n",
    "# plt.show()"
   ]
  },
  {
   "cell_type": "code",
   "execution_count": 253,
   "id": "b8e9973b",
   "metadata": {},
   "outputs": [
    {
     "name": "stdout",
     "output_type": "stream",
     "text": [
      "              precision    recall  f1-score   support\n",
      "\n",
      "           0       0.75      0.75      0.75       405\n",
      "           1       0.75      0.75      0.75       395\n",
      "\n",
      "    accuracy                           0.75       800\n",
      "   macro avg       0.75      0.75      0.75       800\n",
      "weighted avg       0.75      0.75      0.75       800\n",
      "\n",
      "[[305 100]\n",
      " [100 295]]\n",
      "{'criterion': 'gini', 'max_depth': 19, 'max_features': 'auto', 'n_estimators': 300}\n"
     ]
    }
   ],
   "source": [
    "from sklearn.model_selection import GridSearchCV\n",
    "from sklearn.model_selection import RepeatedStratifiedKFold\n",
    "seed=50\n",
    "rf_params = {   \n",
    "    \"n_estimators\": [100, 200, 300],\n",
    "    \"max_depth\": range(1, 20, 2),\n",
    "    \"criterion\": ['gini','entropy'],\n",
    "    \"max_features\": ['auto'],\n",
    "}\n",
    "\n",
    "rf = RandomForestClassifier()\n",
    "\n",
    "cv = RepeatedStratifiedKFold(n_splits=10, n_repeats=3, random_state=seed)\n",
    "grid_search = GridSearchCV(estimator=rf, param_grid=rf_params, n_jobs=1, cv=cv, scoring=\"accuracy\", error_score=0)\n",
    "grid_result = grid_search.fit(X_train,y_train)\n",
    "\n",
    "rf_final_model = rf.set_params(**grid_result.best_params_)\n",
    "rf_final_model.fit(X_train,y_train)\n",
    "rf_predh = rf_final_model.predict(X_test)\n",
    "\n",
    "print(classification_report(y_test, rf_predh))\n",
    "print(confusion_matrix(y_test, rf_predh))\n",
    "\n",
    "print(grid_result.best_params_)"
   ]
  },
  {
   "cell_type": "code",
   "execution_count": 254,
   "id": "eaed112a",
   "metadata": {},
   "outputs": [],
   "source": [
    "predh = rf_final_model.predict(X_test)"
   ]
  },
  {
   "cell_type": "code",
   "execution_count": 255,
   "id": "19ddbeeb",
   "metadata": {},
   "outputs": [
    {
     "name": "stdout",
     "output_type": "stream",
     "text": [
      "0.75\n"
     ]
    }
   ],
   "source": [
    "accuracy = accuracy_score(y_test,predh)\n",
    "print(accuracy)"
   ]
  },
  {
   "cell_type": "markdown",
   "id": "8890cc4e",
   "metadata": {},
   "source": [
    "#### SVC"
   ]
  },
  {
   "cell_type": "code",
   "execution_count": 256,
   "id": "7681181b",
   "metadata": {},
   "outputs": [
    {
     "data": {
      "text/plain": [
       "(800, 9)"
      ]
     },
     "execution_count": 256,
     "metadata": {},
     "output_type": "execute_result"
    }
   ],
   "source": [
    "X = df_feat.drop(['Potability'],axis=1)\n",
    "y = df_feat['Potability']\n",
    "X_train, X_test, y_train, y_test = train_test_split(X, y, test_size=0.2, random_state=50)\n",
    "X_test.shape"
   ]
  },
  {
   "cell_type": "code",
   "execution_count": 257,
   "id": "a3290679",
   "metadata": {},
   "outputs": [],
   "source": [
    "from sklearn.svm import SVC\n",
    "svc_algo = SVC(random_state=50,probability=True)\n"
   ]
  },
  {
   "cell_type": "code",
   "execution_count": 258,
   "id": "2718955b",
   "metadata": {},
   "outputs": [
    {
     "data": {
      "text/html": [
       "<style>#sk-container-id-12 {color: black;background-color: white;}#sk-container-id-12 pre{padding: 0;}#sk-container-id-12 div.sk-toggleable {background-color: white;}#sk-container-id-12 label.sk-toggleable__label {cursor: pointer;display: block;width: 100%;margin-bottom: 0;padding: 0.3em;box-sizing: border-box;text-align: center;}#sk-container-id-12 label.sk-toggleable__label-arrow:before {content: \"▸\";float: left;margin-right: 0.25em;color: #696969;}#sk-container-id-12 label.sk-toggleable__label-arrow:hover:before {color: black;}#sk-container-id-12 div.sk-estimator:hover label.sk-toggleable__label-arrow:before {color: black;}#sk-container-id-12 div.sk-toggleable__content {max-height: 0;max-width: 0;overflow: hidden;text-align: left;background-color: #f0f8ff;}#sk-container-id-12 div.sk-toggleable__content pre {margin: 0.2em;color: black;border-radius: 0.25em;background-color: #f0f8ff;}#sk-container-id-12 input.sk-toggleable__control:checked~div.sk-toggleable__content {max-height: 200px;max-width: 100%;overflow: auto;}#sk-container-id-12 input.sk-toggleable__control:checked~label.sk-toggleable__label-arrow:before {content: \"▾\";}#sk-container-id-12 div.sk-estimator input.sk-toggleable__control:checked~label.sk-toggleable__label {background-color: #d4ebff;}#sk-container-id-12 div.sk-label input.sk-toggleable__control:checked~label.sk-toggleable__label {background-color: #d4ebff;}#sk-container-id-12 input.sk-hidden--visually {border: 0;clip: rect(1px 1px 1px 1px);clip: rect(1px, 1px, 1px, 1px);height: 1px;margin: -1px;overflow: hidden;padding: 0;position: absolute;width: 1px;}#sk-container-id-12 div.sk-estimator {font-family: monospace;background-color: #f0f8ff;border: 1px dotted black;border-radius: 0.25em;box-sizing: border-box;margin-bottom: 0.5em;}#sk-container-id-12 div.sk-estimator:hover {background-color: #d4ebff;}#sk-container-id-12 div.sk-parallel-item::after {content: \"\";width: 100%;border-bottom: 1px solid gray;flex-grow: 1;}#sk-container-id-12 div.sk-label:hover label.sk-toggleable__label {background-color: #d4ebff;}#sk-container-id-12 div.sk-serial::before {content: \"\";position: absolute;border-left: 1px solid gray;box-sizing: border-box;top: 0;bottom: 0;left: 50%;z-index: 0;}#sk-container-id-12 div.sk-serial {display: flex;flex-direction: column;align-items: center;background-color: white;padding-right: 0.2em;padding-left: 0.2em;position: relative;}#sk-container-id-12 div.sk-item {position: relative;z-index: 1;}#sk-container-id-12 div.sk-parallel {display: flex;align-items: stretch;justify-content: center;background-color: white;position: relative;}#sk-container-id-12 div.sk-item::before, #sk-container-id-12 div.sk-parallel-item::before {content: \"\";position: absolute;border-left: 1px solid gray;box-sizing: border-box;top: 0;bottom: 0;left: 50%;z-index: -1;}#sk-container-id-12 div.sk-parallel-item {display: flex;flex-direction: column;z-index: 1;position: relative;background-color: white;}#sk-container-id-12 div.sk-parallel-item:first-child::after {align-self: flex-end;width: 50%;}#sk-container-id-12 div.sk-parallel-item:last-child::after {align-self: flex-start;width: 50%;}#sk-container-id-12 div.sk-parallel-item:only-child::after {width: 0;}#sk-container-id-12 div.sk-dashed-wrapped {border: 1px dashed gray;margin: 0 0.4em 0.5em 0.4em;box-sizing: border-box;padding-bottom: 0.4em;background-color: white;}#sk-container-id-12 div.sk-label label {font-family: monospace;font-weight: bold;display: inline-block;line-height: 1.2em;}#sk-container-id-12 div.sk-label-container {text-align: center;}#sk-container-id-12 div.sk-container {/* jupyter's `normalize.less` sets `[hidden] { display: none; }` but bootstrap.min.css set `[hidden] { display: none !important; }` so we also need the `!important` here to be able to override the default hidden behavior on the sphinx rendered scikit-learn.org. See: https://github.com/scikit-learn/scikit-learn/issues/21755 */display: inline-block !important;position: relative;}#sk-container-id-12 div.sk-text-repr-fallback {display: none;}</style><div id=\"sk-container-id-12\" class=\"sk-top-container\"><div class=\"sk-text-repr-fallback\"><pre>SVC(probability=True, random_state=50)</pre><b>In a Jupyter environment, please rerun this cell to show the HTML representation or trust the notebook. <br />On GitHub, the HTML representation is unable to render, please try loading this page with nbviewer.org.</b></div><div class=\"sk-container\" hidden><div class=\"sk-item\"><div class=\"sk-estimator sk-toggleable\"><input class=\"sk-toggleable__control sk-hidden--visually\" id=\"sk-estimator-id-12\" type=\"checkbox\" checked><label for=\"sk-estimator-id-12\" class=\"sk-toggleable__label sk-toggleable__label-arrow\">SVC</label><div class=\"sk-toggleable__content\"><pre>SVC(probability=True, random_state=50)</pre></div></div></div></div></div>"
      ],
      "text/plain": [
       "SVC(probability=True, random_state=50)"
      ]
     },
     "execution_count": 258,
     "metadata": {},
     "output_type": "execute_result"
    }
   ],
   "source": [
    "svc_algo.fit(X_train,y_train)"
   ]
  },
  {
   "cell_type": "markdown",
   "id": "9e39d35d",
   "metadata": {},
   "source": [
    "#### Training Accuracy"
   ]
  },
  {
   "cell_type": "code",
   "execution_count": 259,
   "id": "461aa0b2",
   "metadata": {},
   "outputs": [],
   "source": [
    "svc_pred = svc_algo.predict(X_train)"
   ]
  },
  {
   "cell_type": "code",
   "execution_count": 260,
   "id": "f53e7f3c",
   "metadata": {},
   "outputs": [
    {
     "name": "stdout",
     "output_type": "stream",
     "text": [
      "0.7525031289111389\n"
     ]
    }
   ],
   "source": [
    "accuracy = accuracy_score(y_train,svc_pred)\n",
    "print(accuracy)"
   ]
  },
  {
   "cell_type": "markdown",
   "id": "9a08fd85",
   "metadata": {},
   "source": [
    "#### Cross Validation"
   ]
  },
  {
   "cell_type": "code",
   "execution_count": 261,
   "id": "dda54d6b",
   "metadata": {},
   "outputs": [],
   "source": [
    "from sklearn.model_selection import cross_val_score,cross_val_predict\n",
    "svc_acc=cross_val_score(svc_algo,X_train,y_train,cv=5,scoring='accuracy',n_jobs=-1)\n",
    "svc_proba=cross_val_predict(svc_algo,X_train,y_train,cv=5,method='predict_proba')"
   ]
  },
  {
   "cell_type": "markdown",
   "id": "924b1f52",
   "metadata": {},
   "source": [
    "#### Validation Accuracy"
   ]
  },
  {
   "cell_type": "code",
   "execution_count": 262,
   "id": "21b31d02",
   "metadata": {},
   "outputs": [
    {
     "data": {
      "text/plain": [
       "array([0.621875  , 0.64945227, 0.66040689, 0.69796557, 0.66823161])"
      ]
     },
     "execution_count": 262,
     "metadata": {},
     "output_type": "execute_result"
    }
   ],
   "source": [
    "svc_acc"
   ]
  },
  {
   "cell_type": "code",
   "execution_count": 263,
   "id": "166fbba0",
   "metadata": {},
   "outputs": [
    {
     "data": {
      "text/plain": [
       "0.6595862676056339"
      ]
     },
     "execution_count": 263,
     "metadata": {},
     "output_type": "execute_result"
    }
   ],
   "source": [
    "svc_acc.mean()"
   ]
  },
  {
   "cell_type": "markdown",
   "id": "8435f133",
   "metadata": {},
   "source": [
    "#### Test Accuracy"
   ]
  },
  {
   "cell_type": "code",
   "execution_count": 264,
   "id": "f211af19",
   "metadata": {},
   "outputs": [],
   "source": [
    "svc_pred = svc_algo.predict(X_test)"
   ]
  },
  {
   "cell_type": "code",
   "execution_count": 265,
   "id": "9283b8df",
   "metadata": {},
   "outputs": [
    {
     "name": "stdout",
     "output_type": "stream",
     "text": [
      "0.66125\n"
     ]
    }
   ],
   "source": [
    "accuracy = accuracy_score(y_test,svc_pred)\n",
    "print(accuracy)"
   ]
  },
  {
   "cell_type": "markdown",
   "id": "8200c7f0",
   "metadata": {},
   "source": [
    "#### Confusion Matrix"
   ]
  },
  {
   "cell_type": "code",
   "execution_count": 266,
   "id": "b6b5cd82",
   "metadata": {},
   "outputs": [
    {
     "name": "stdout",
     "output_type": "stream",
     "text": [
      "confusion_matrix: \n",
      " [[257 148]\n",
      " [123 272]]\n",
      "              precision    recall  f1-score   support\n",
      "\n",
      "           0       0.68      0.63      0.65       405\n",
      "           1       0.65      0.69      0.67       395\n",
      "\n",
      "    accuracy                           0.66       800\n",
      "   macro avg       0.66      0.66      0.66       800\n",
      "weighted avg       0.66      0.66      0.66       800\n",
      "\n"
     ]
    }
   ],
   "source": [
    "confusion_matrix_ = confusion_matrix(y_test, svc_pred)\n",
    "print('confusion_matrix: \\n', confusion_matrix_)\n",
    "\n",
    "print(classification_report(y_test, svc_pred))"
   ]
  },
  {
   "cell_type": "code",
   "execution_count": 267,
   "id": "0f4c31ed",
   "metadata": {},
   "outputs": [
    {
     "name": "stdout",
     "output_type": "stream",
     "text": [
      "True Negatives =  257\n",
      "False Negatives =  123\n",
      "False Positives =  148\n",
      "True Positives =  272\n"
     ]
    }
   ],
   "source": [
    "TN = confusion_matrix_[0,0]\n",
    "print(\"True Negatives = \", TN)\n",
    "\n",
    "FN = confusion_matrix_[1,0]\n",
    "print(\"False Negatives = \", FN)\n",
    "\n",
    "FP = confusion_matrix_[0,1]\n",
    "print(\"False Positives = \", FP)\n",
    "\n",
    "TP = confusion_matrix_[1,1]\n",
    "print(\"True Positives = \", TP)"
   ]
  },
  {
   "cell_type": "markdown",
   "id": "d8c5bb88",
   "metadata": {},
   "source": [
    "#### True Positive Rate, False Positive Rate"
   ]
  },
  {
   "cell_type": "code",
   "execution_count": 268,
   "id": "d0c0edd2",
   "metadata": {},
   "outputs": [
    {
     "name": "stdout",
     "output_type": "stream",
     "text": [
      "True Positive Rate =  0.69\n",
      "False Positive Rate =  0.37\n"
     ]
    }
   ],
   "source": [
    "TPR = np.round(TP/(TP+FN), 2)\n",
    "FPR = np.round(FP/(FP+TN), 2)\n",
    "\n",
    "print(\"True Positive Rate = \", TPR)\n",
    "print(\"False Positive Rate = \", FPR)"
   ]
  },
  {
   "cell_type": "markdown",
   "id": "2e1a582a",
   "metadata": {},
   "source": [
    "#### ROC: Receiver operating Characteristics and AUC: Area Under the Curve"
   ]
  },
  {
   "cell_type": "code",
   "execution_count": 269,
   "id": "b0b2690c",
   "metadata": {},
   "outputs": [
    {
     "data": {
      "image/png": "[encoded data removed]",
      "text/plain": [
       "<Figure size 720x576 with 1 Axes>"
      ]
     },
     "metadata": {
      "needs_background": "light"
     },
     "output_type": "display_data"
    }
   ],
   "source": [
    "fpr, tpr, thr = roc_curve(y_test, svc_pred)\n",
    "auc = np.round(roc_auc_score(y_test, svc_pred), 2)\n",
    "\n",
    "plt.figure(figsize=(10, 8))\n",
    "plt.plot(fpr, \n",
    "         tpr, \n",
    "         color='green', \n",
    "         lw=2, \n",
    "         label=\"Curve Area = \" +str(auc))\n",
    "\n",
    "plt.plot([0, 1], [0, 1], color='blue', lw=2, linestyle='--')\n",
    "plt.xlabel('False Positive Rate (FPR)')\n",
    "plt.ylabel('True Positive Rate (TPR)')\n",
    "plt.title('ROC curve')\n",
    "plt.legend(loc=\"lower right\")\n",
    "plt.show()"
   ]
  },
  {
   "cell_type": "code",
   "execution_count": 270,
   "id": "80e638d9",
   "metadata": {},
   "outputs": [],
   "source": [
    "# plot_confusion_matrix(svc_algo, \n",
    "#                       X_test, \n",
    "#                       y_test, \n",
    "#                       display_labels=[\"No Flood\", \"Flood\"],\n",
    "#                       cmap='Blues')\n",
    "# plt.show()"
   ]
  },
  {
   "cell_type": "markdown",
   "id": "4ecc7545",
   "metadata": {},
   "source": [
    "#### Xg Boost"
   ]
  },
  {
   "cell_type": "code",
   "execution_count": 271,
   "id": "74cd0051",
   "metadata": {},
   "outputs": [
    {
     "data": {
      "text/plain": [
       "(800, 9)"
      ]
     },
     "execution_count": 271,
     "metadata": {},
     "output_type": "execute_result"
    }
   ],
   "source": [
    "X = df_feat.drop(['Potability'],axis=1)\n",
    "y = df_feat['Potability']\n",
    "X_train, X_test, y_train, y_test = train_test_split(X, y, test_size=0.2, random_state=50)\n",
    "X_test.shape"
   ]
  },
  {
   "cell_type": "code",
   "execution_count": 272,
   "id": "f321d869",
   "metadata": {},
   "outputs": [],
   "source": [
    "from xgboost import XGBClassifier"
   ]
  },
  {
   "cell_type": "code",
   "execution_count": 273,
   "id": "32db8503",
   "metadata": {},
   "outputs": [],
   "source": [
    "xgb_model = XGBClassifier(objective=\"binary:logistic\", random_state=50, eval_metric=\"auc\")"
   ]
  },
  {
   "cell_type": "code",
   "execution_count": 274,
   "id": "60eb708e",
   "metadata": {},
   "outputs": [
    {
     "data": {
      "text/html": [
       "<style>#sk-container-id-13 {color: black;background-color: white;}#sk-container-id-13 pre{padding: 0;}#sk-container-id-13 div.sk-toggleable {background-color: white;}#sk-container-id-13 label.sk-toggleable__label {cursor: pointer;display: block;width: 100%;margin-bottom: 0;padding: 0.3em;box-sizing: border-box;text-align: center;}#sk-container-id-13 label.sk-toggleable__label-arrow:before {content: \"▸\";float: left;margin-right: 0.25em;color: #696969;}#sk-container-id-13 label.sk-toggleable__label-arrow:hover:before {color: black;}#sk-container-id-13 div.sk-estimator:hover label.sk-toggleable__label-arrow:before {color: black;}#sk-container-id-13 div.sk-toggleable__content {max-height: 0;max-width: 0;overflow: hidden;text-align: left;background-color: #f0f8ff;}#sk-container-id-13 div.sk-toggleable__content pre {margin: 0.2em;color: black;border-radius: 0.25em;background-color: #f0f8ff;}#sk-container-id-13 input.sk-toggleable__control:checked~div.sk-toggleable__content {max-height: 200px;max-width: 100%;overflow: auto;}#sk-container-id-13 input.sk-toggleable__control:checked~label.sk-toggleable__label-arrow:before {content: \"▾\";}#sk-container-id-13 div.sk-estimator input.sk-toggleable__control:checked~label.sk-toggleable__label {background-color: #d4ebff;}#sk-container-id-13 div.sk-label input.sk-toggleable__control:checked~label.sk-toggleable__label {background-color: #d4ebff;}#sk-container-id-13 input.sk-hidden--visually {border: 0;clip: rect(1px 1px 1px 1px);clip: rect(1px, 1px, 1px, 1px);height: 1px;margin: -1px;overflow: hidden;padding: 0;position: absolute;width: 1px;}#sk-container-id-13 div.sk-estimator {font-family: monospace;background-color: #f0f8ff;border: 1px dotted black;border-radius: 0.25em;box-sizing: border-box;margin-bottom: 0.5em;}#sk-container-id-13 div.sk-estimator:hover {background-color: #d4ebff;}#sk-container-id-13 div.sk-parallel-item::after {content: \"\";width: 100%;border-bottom: 1px solid gray;flex-grow: 1;}#sk-container-id-13 div.sk-label:hover label.sk-toggleable__label {background-color: #d4ebff;}#sk-container-id-13 div.sk-serial::before {content: \"\";position: absolute;border-left: 1px solid gray;box-sizing: border-box;top: 0;bottom: 0;left: 50%;z-index: 0;}#sk-container-id-13 div.sk-serial {display: flex;flex-direction: column;align-items: center;background-color: white;padding-right: 0.2em;padding-left: 0.2em;position: relative;}#sk-container-id-13 div.sk-item {position: relative;z-index: 1;}#sk-container-id-13 div.sk-parallel {display: flex;align-items: stretch;justify-content: center;background-color: white;position: relative;}#sk-container-id-13 div.sk-item::before, #sk-container-id-13 div.sk-parallel-item::before {content: \"\";position: absolute;border-left: 1px solid gray;box-sizing: border-box;top: 0;bottom: 0;left: 50%;z-index: -1;}#sk-container-id-13 div.sk-parallel-item {display: flex;flex-direction: column;z-index: 1;position: relative;background-color: white;}#sk-container-id-13 div.sk-parallel-item:first-child::after {align-self: flex-end;width: 50%;}#sk-container-id-13 div.sk-parallel-item:last-child::after {align-self: flex-start;width: 50%;}#sk-container-id-13 div.sk-parallel-item:only-child::after {width: 0;}#sk-container-id-13 div.sk-dashed-wrapped {border: 1px dashed gray;margin: 0 0.4em 0.5em 0.4em;box-sizing: border-box;padding-bottom: 0.4em;background-color: white;}#sk-container-id-13 div.sk-label label {font-family: monospace;font-weight: bold;display: inline-block;line-height: 1.2em;}#sk-container-id-13 div.sk-label-container {text-align: center;}#sk-container-id-13 div.sk-container {/* jupyter's `normalize.less` sets `[hidden] { display: none; }` but bootstrap.min.css set `[hidden] { display: none !important; }` so we also need the `!important` here to be able to override the default hidden behavior on the sphinx rendered scikit-learn.org. See: https://github.com/scikit-learn/scikit-learn/issues/21755 */display: inline-block !important;position: relative;}#sk-container-id-13 div.sk-text-repr-fallback {display: none;}</style><div id=\"sk-container-id-13\" class=\"sk-top-container\"><div class=\"sk-text-repr-fallback\"><pre>XGBClassifier(base_score=None, booster=None, callbacks=None,\n",
       "              colsample_bylevel=None, colsample_bynode=None,\n",
       "              colsample_bytree=None, early_stopping_rounds=None,\n",
       "              enable_categorical=False, eval_metric=&#x27;auc&#x27;, feature_types=None,\n",
       "              gamma=None, gpu_id=None, grow_policy=None, importance_type=None,\n",
       "              interaction_constraints=None, learning_rate=None, max_bin=None,\n",
       "              max_cat_threshold=None, max_cat_to_onehot=None,\n",
       "              max_delta_step=None, max_depth=None, max_leaves=None,\n",
       "              min_child_weight=None, missing=nan, monotone_constraints=None,\n",
       "              n_estimators=100, n_jobs=None, num_parallel_tree=None,\n",
       "              predictor=None, random_state=50, ...)</pre><b>In a Jupyter environment, please rerun this cell to show the HTML representation or trust the notebook. <br />On GitHub, the HTML representation is unable to render, please try loading this page with nbviewer.org.</b></div><div class=\"sk-container\" hidden><div class=\"sk-item\"><div class=\"sk-estimator sk-toggleable\"><input class=\"sk-toggleable__control sk-hidden--visually\" id=\"sk-estimator-id-13\" type=\"checkbox\" checked><label for=\"sk-estimator-id-13\" class=\"sk-toggleable__label sk-toggleable__label-arrow\">XGBClassifier</label><div class=\"sk-toggleable__content\"><pre>XGBClassifier(base_score=None, booster=None, callbacks=None,\n",
       "              colsample_bylevel=None, colsample_bynode=None,\n",
       "              colsample_bytree=None, early_stopping_rounds=None,\n",
       "              enable_categorical=False, eval_metric=&#x27;auc&#x27;, feature_types=None,\n",
       "              gamma=None, gpu_id=None, grow_policy=None, importance_type=None,\n",
       "              interaction_constraints=None, learning_rate=None, max_bin=None,\n",
       "              max_cat_threshold=None, max_cat_to_onehot=None,\n",
       "              max_delta_step=None, max_depth=None, max_leaves=None,\n",
       "              min_child_weight=None, missing=nan, monotone_constraints=None,\n",
       "              n_estimators=100, n_jobs=None, num_parallel_tree=None,\n",
       "              predictor=None, random_state=50, ...)</pre></div></div></div></div></div>"
      ],
      "text/plain": [
       "XGBClassifier(base_score=None, booster=None, callbacks=None,\n",
       "              colsample_bylevel=None, colsample_bynode=None,\n",
       "              colsample_bytree=None, early_stopping_rounds=None,\n",
       "              enable_categorical=False, eval_metric='auc', feature_types=None,\n",
       "              gamma=None, gpu_id=None, grow_policy=None, importance_type=None,\n",
       "              interaction_constraints=None, learning_rate=None, max_bin=None,\n",
       "              max_cat_threshold=None, max_cat_to_onehot=None,\n",
       "              max_delta_step=None, max_depth=None, max_leaves=None,\n",
       "              min_child_weight=None, missing=nan, monotone_constraints=None,\n",
       "              n_estimators=100, n_jobs=None, num_parallel_tree=None,\n",
       "              predictor=None, random_state=50, ...)"
      ]
     },
     "execution_count": 274,
     "metadata": {},
     "output_type": "execute_result"
    }
   ],
   "source": [
    "xgb_model.fit(X_train,y_train)"
   ]
  },
  {
   "cell_type": "markdown",
   "id": "dd63655a",
   "metadata": {},
   "source": [
    "#### Training Accuracy "
   ]
  },
  {
   "cell_type": "code",
   "execution_count": 275,
   "id": "6de2c550",
   "metadata": {},
   "outputs": [],
   "source": [
    "xgb_pred = xgb_model.predict(X_train)"
   ]
  },
  {
   "cell_type": "code",
   "execution_count": 276,
   "id": "0fe6e490",
   "metadata": {},
   "outputs": [
    {
     "name": "stdout",
     "output_type": "stream",
     "text": [
      "0.996558197747184\n"
     ]
    }
   ],
   "source": [
    "accuracy = accuracy_score(y_train,xgb_pred)\n",
    "print(accuracy)"
   ]
  },
  {
   "cell_type": "markdown",
   "id": "4c5658c8",
   "metadata": {},
   "source": [
    "#### Cross Validation"
   ]
  },
  {
   "cell_type": "code",
   "execution_count": 277,
   "id": "656fa6f6",
   "metadata": {},
   "outputs": [],
   "source": [
    "from sklearn.model_selection import cross_val_score,cross_val_predict\n",
    "xgb_acc=cross_val_score(xgb_model,X_train,y_train,cv=5,scoring='accuracy',n_jobs=-1)\n",
    "xgb_proba=cross_val_predict(xgb_model,X_train,y_train,cv=5,method='predict_proba')"
   ]
  },
  {
   "cell_type": "markdown",
   "id": "01c807b2",
   "metadata": {},
   "source": [
    "#### Validation Accuracy"
   ]
  },
  {
   "cell_type": "code",
   "execution_count": 278,
   "id": "2133deea",
   "metadata": {},
   "outputs": [
    {
     "data": {
      "text/plain": [
       "array([0.6546875 , 0.64162754, 0.66823161, 0.70422535, 0.64788732])"
      ]
     },
     "execution_count": 278,
     "metadata": {},
     "output_type": "execute_result"
    }
   ],
   "source": [
    "xgb_acc"
   ]
  },
  {
   "cell_type": "code",
   "execution_count": 279,
   "id": "bad6416a",
   "metadata": {},
   "outputs": [
    {
     "data": {
      "text/plain": [
       "0.6633318661971831"
      ]
     },
     "execution_count": 279,
     "metadata": {},
     "output_type": "execute_result"
    }
   ],
   "source": [
    "xgb_acc.mean()"
   ]
  },
  {
   "cell_type": "markdown",
   "id": "ca61bbff",
   "metadata": {},
   "source": [
    "#### Test Accuracy"
   ]
  },
  {
   "cell_type": "code",
   "execution_count": 280,
   "id": "090d8b00",
   "metadata": {},
   "outputs": [],
   "source": [
    "xgb_pred = xgb_model.predict(X_test)"
   ]
  },
  {
   "cell_type": "code",
   "execution_count": 281,
   "id": "2bfdf4f0",
   "metadata": {},
   "outputs": [
    {
     "name": "stdout",
     "output_type": "stream",
     "text": [
      "0.6925\n"
     ]
    }
   ],
   "source": [
    "accuracy = accuracy_score(y_test,xgb_pred)\n",
    "print(accuracy)"
   ]
  },
  {
   "cell_type": "markdown",
   "id": "3b0b43f8",
   "metadata": {},
   "source": [
    "#### Confusion Matrix"
   ]
  },
  {
   "cell_type": "code",
   "execution_count": 282,
   "id": "051934df",
   "metadata": {},
   "outputs": [
    {
     "name": "stdout",
     "output_type": "stream",
     "text": [
      "confusion_matrix: \n",
      " [[268 137]\n",
      " [109 286]]\n",
      "              precision    recall  f1-score   support\n",
      "\n",
      "           0       0.71      0.66      0.69       405\n",
      "           1       0.68      0.72      0.70       395\n",
      "\n",
      "    accuracy                           0.69       800\n",
      "   macro avg       0.69      0.69      0.69       800\n",
      "weighted avg       0.69      0.69      0.69       800\n",
      "\n"
     ]
    }
   ],
   "source": [
    "confusion_matrix_ = confusion_matrix(y_test, xgb_pred)\n",
    "print('confusion_matrix: \\n', confusion_matrix_)\n",
    "\n",
    "print(classification_report(y_test, xgb_pred))"
   ]
  },
  {
   "cell_type": "code",
   "execution_count": 283,
   "id": "91805ecd",
   "metadata": {},
   "outputs": [
    {
     "name": "stdout",
     "output_type": "stream",
     "text": [
      "True Negatives =  268\n",
      "False Negatives =  109\n",
      "False Positives =  137\n",
      "True Positives =  286\n"
     ]
    }
   ],
   "source": [
    "TN = confusion_matrix_[0,0]\n",
    "print(\"True Negatives = \", TN)\n",
    "\n",
    "FN = confusion_matrix_[1,0]\n",
    "print(\"False Negatives = \", FN)\n",
    "\n",
    "FP = confusion_matrix_[0,1]\n",
    "print(\"False Positives = \", FP)\n",
    "\n",
    "TP = confusion_matrix_[1,1]\n",
    "print(\"True Positives = \", TP)"
   ]
  },
  {
   "cell_type": "code",
   "execution_count": 284,
   "id": "337d5d0b",
   "metadata": {},
   "outputs": [],
   "source": [
    "# plot_confusion_matrix(xgb_model, \n",
    "#                       X_test, \n",
    "#                       y_test, \n",
    "#                       display_labels=[\"No Flood\", \"Flood\"],\n",
    "#                       cmap='Blues')\n",
    "# plt.show()"
   ]
  },
  {
   "cell_type": "markdown",
   "id": "37fed64d",
   "metadata": {},
   "source": [
    "#### ROC: Receiver operating Characteristics and AUC: Area Under the Curve"
   ]
  },
  {
   "cell_type": "code",
   "execution_count": 285,
   "id": "2d07474e",
   "metadata": {},
   "outputs": [
    {
     "data": {
      "image/png": "[encoded data removed]",
      "text/plain": [
       "<Figure size 720x576 with 1 Axes>"
      ]
     },
     "metadata": {
      "needs_background": "light"
     },
     "output_type": "display_data"
    }
   ],
   "source": [
    "fpr, tpr, thr = roc_curve(y_test, xgb_pred)\n",
    "auc = np.round(roc_auc_score(y_test, xgb_pred), 2)\n",
    "\n",
    "plt.figure(figsize=(10, 8))\n",
    "plt.plot(fpr, \n",
    "         tpr, \n",
    "         color='green', \n",
    "         lw=2, \n",
    "         label=\"Curve Area = \" +str(auc))\n",
    "\n",
    "plt.plot([0, 1], [0, 1], color='blue', lw=2, linestyle='--')\n",
    "plt.xlabel('False Positive Rate (FPR)')\n",
    "plt.ylabel('True Positive Rate (TPR)')\n",
    "plt.title('ROC curve')\n",
    "plt.legend(loc=\"lower right\")\n",
    "plt.show()"
   ]
  },
  {
   "cell_type": "code",
   "execution_count": 287,
   "id": "d2e120a4",
   "metadata": {},
   "outputs": [
    {
     "name": "stdout",
     "output_type": "stream",
     "text": [
      "              precision    recall  f1-score   support\n",
      "\n",
      "           0       0.75      0.69      0.72       405\n",
      "           1       0.71      0.76      0.73       395\n",
      "\n",
      "    accuracy                           0.73       800\n",
      "   macro avg       0.73      0.73      0.72       800\n",
      "weighted avg       0.73      0.72      0.72       800\n",
      "\n",
      "[[281 124]\n",
      " [ 96 299]]\n",
      "{'learning_rate': 0.1, 'max_depth': 15, 'n_estimators': 200}\n"
     ]
    }
   ],
   "source": [
    "from xgboost import XGBClassifier\n",
    "from sklearn.model_selection import GridSearchCV, RepeatedStratifiedKFold\n",
    "from sklearn.metrics import classification_report, confusion_matrix\n",
    "\n",
    "seed = 50\n",
    "\n",
    "# XGBClassifier parameters for the grid search\n",
    "xgb_params = {\n",
    "    'n_estimators': [100, 200, 300],\n",
    "    'max_depth': range(1, 20, 2),\n",
    "    'learning_rate': [0.01, 0.1, 0.2],\n",
    "}\n",
    "\n",
    "# Create an XGBClassifier\n",
    "xgb = XGBClassifier(random_state=seed)\n",
    "\n",
    "# Repeated Stratified K-Fold cross-validator\n",
    "cv = RepeatedStratifiedKFold(n_splits=5, n_repeats=3, random_state=seed)\n",
    "\n",
    "# Grid search using GridSearchCV\n",
    "grid_search = GridSearchCV(estimator=xgb, param_grid=xgb_params, n_jobs=1, cv=cv, scoring='accuracy', error_score=0)\n",
    "grid_result = grid_search.fit(X_train, y_train)\n",
    "\n",
    "# Get the best XGBClassifier model with optimal hyperparameters\n",
    "best_xgb_model = xgb.set_params(**grid_result.best_params_)\n",
    "best_xgb_model.fit(X_train, y_train)\n",
    "\n",
    "# Make predictions on the test set\n",
    "xgb_pred = best_xgb_model.predict(X_test)\n",
    "\n",
    "# Evaluate the performance\n",
    "print(classification_report(y_test, xgb_pred))\n",
    "print(confusion_matrix(y_test, xgb_pred))\n",
    "\n",
    "# Display the best hyperparameters\n",
    "print(grid_result.best_params_)\n"
   ]
  },
  {
   "cell_type": "code",
   "execution_count": 288,
   "id": "598b6076",
   "metadata": {},
   "outputs": [],
   "source": [
    "predh = best_xgb_model.predict(X_test)"
   ]
  },
  {
   "cell_type": "code",
   "execution_count": 289,
   "id": "720747bb",
   "metadata": {},
   "outputs": [
    {
     "name": "stdout",
     "output_type": "stream",
     "text": [
      "0.725\n"
     ]
    }
   ],
   "source": [
    "accuracy = accuracy_score(y_test,predh)\n",
    "print(accuracy)"
   ]
  },
  {
   "cell_type": "code",
   "execution_count": 293,
   "id": "105495b5",
   "metadata": {},
   "outputs": [
    {
     "data": {
      "text/html": [
       "<div>\n",
       "<style scoped>\n",
       "    .dataframe tbody tr th:only-of-type {\n",
       "        vertical-align: middle;\n",
       "    }\n",
       "\n",
       "    .dataframe tbody tr th {\n",
       "        vertical-align: top;\n",
       "    }\n",
       "\n",
       "    .dataframe thead th {\n",
       "        text-align: right;\n",
       "    }\n",
       "</style>\n",
       "<table border=\"1\" class=\"dataframe\">\n",
       "  <thead>\n",
       "    <tr style=\"text-align: right;\">\n",
       "      <th></th>\n",
       "      <th>Name</th>\n",
       "      <th>Accuracy</th>\n",
       "      <th>Precision</th>\n",
       "      <th>Recall</th>\n",
       "      <th>F1-Score</th>\n",
       "      <th>ROC Score</th>\n",
       "    </tr>\n",
       "  </thead>\n",
       "  <tbody>\n",
       "    <tr>\n",
       "      <th>0</th>\n",
       "      <td>KNN</td>\n",
       "      <td>74.38</td>\n",
       "      <td>70.47</td>\n",
       "      <td>82.78</td>\n",
       "      <td>76.14</td>\n",
       "      <td>74.48</td>\n",
       "    </tr>\n",
       "    <tr>\n",
       "      <th>1</th>\n",
       "      <td>DTC</td>\n",
       "      <td>62.62</td>\n",
       "      <td>61.76</td>\n",
       "      <td>63.80</td>\n",
       "      <td>62.76</td>\n",
       "      <td>62.64</td>\n",
       "    </tr>\n",
       "    <tr>\n",
       "      <th>2</th>\n",
       "      <td>RFC</td>\n",
       "      <td>74.38</td>\n",
       "      <td>73.51</td>\n",
       "      <td>75.19</td>\n",
       "      <td>74.34</td>\n",
       "      <td>74.39</td>\n",
       "    </tr>\n",
       "    <tr>\n",
       "      <th>3</th>\n",
       "      <td>SVC</td>\n",
       "      <td>66.12</td>\n",
       "      <td>64.76</td>\n",
       "      <td>68.86</td>\n",
       "      <td>66.75</td>\n",
       "      <td>66.16</td>\n",
       "    </tr>\n",
       "    <tr>\n",
       "      <th>4</th>\n",
       "      <td>XG Boost</td>\n",
       "      <td>72.50</td>\n",
       "      <td>70.69</td>\n",
       "      <td>75.70</td>\n",
       "      <td>73.11</td>\n",
       "      <td>72.54</td>\n",
       "    </tr>\n",
       "  </tbody>\n",
       "</table>\n",
       "</div>"
      ],
      "text/plain": [
       "       Name  Accuracy  Precision  Recall  F1-Score  ROC Score\n",
       "0       KNN     74.38      70.47   82.78     76.14      74.48\n",
       "1       DTC     62.62      61.76   63.80     62.76      62.64\n",
       "2       RFC     74.38      73.51   75.19     74.34      74.39\n",
       "3       SVC     66.12      64.76   68.86     66.75      66.16\n",
       "4  XG Boost     72.50      70.69   75.70     73.11      72.54"
      ]
     },
     "execution_count": 293,
     "metadata": {},
     "output_type": "execute_result"
    }
   ],
   "source": [
    "models = []\n",
    "from sklearn.neighbors import KNeighborsClassifier\n",
    "from sklearn.tree import DecisionTreeClassifier\n",
    "from sklearn.ensemble import RandomForestClassifier\n",
    "from sklearn.svm import SVC\n",
    "from xgboost import XGBClassifier\n",
    "models.append(('KNN', KNeighborsClassifier(leaf_size = 1, metric ='euclidean', n_neighbors = 1, weights = 'uniform')))\n",
    "models.append(('DTC', DecisionTreeClassifier(criterion = 'gini', max_depth = 17, max_features = 'auto', random_state=50)))\n",
    "models.append(('RFC', RandomForestClassifier(criterion = 'gini', max_depth = 19, max_features = 'auto', n_estimators = 300, random_state=50)))\n",
    "models.append(('SVC', SVC(random_state=50,probability=True)))\n",
    "models.append(('XG Boost', XGBClassifier(objective=\"binary:logistic\", learning_rate = 0.1, max_depth = 15, n_estimators = 200, random_state=50, eval_metric=\"auc\")))\n",
    "\n",
    "names = []\n",
    "scores = []\n",
    "rec = []\n",
    "pre = []\n",
    "f = []\n",
    "roc = []\n",
    "for name, model in models:\n",
    "    model.fit(X_train, y_train)\n",
    "    y_pred = model.predict(X_test)\n",
    "    scores.append(round((accuracy_score(y_test, y_pred)*100), 2))\n",
    "    pre.append(round((precision_score(y_test,y_pred)*100), 2))\n",
    "    rec.append(round((recall_score(y_test,y_pred)*100), 2))           \n",
    "    f.append(round((f1_score(y_test,y_pred)*100), 2))          \n",
    "    roc.append(round((roc_auc_score(y_test,y_pred)*100), 2))\n",
    "    \n",
    "    names.append(name)\n",
    "tr_split = pd.DataFrame({'Name': names, 'Accuracy': scores, 'Precision': pre, 'Recall': rec, \"F1-Score\": f, \"ROC Score\": roc})\n",
    "tr_split\n"
   ]
  },
  {
   "cell_type": "code",
   "execution_count": 291,
   "id": "d6405b10",
   "metadata": {},
   "outputs": [
    {
     "data": {
      "image/png": "[encoded data removed]",
      "text/plain": [
       "<Figure size 1080x720 with 5 Axes>"
      ]
     },
     "metadata": {
      "needs_background": "light"
     },
     "output_type": "display_data"
    }
   ],
   "source": [
    "import matplotlib.pyplot as plt\n",
    "from sklearn.metrics import roc_curve, roc_auc_score\n",
    "\n",
    "plt.figure(figsize=(15, 10))\n",
    "plt.subplots_adjust(hspace=0.4)\n",
    "\n",
    "models = []\n",
    "from sklearn.neighbors import KNeighborsClassifier\n",
    "from sklearn.tree import DecisionTreeClassifier\n",
    "from sklearn.ensemble import RandomForestClassifier\n",
    "from sklearn.svm import SVC\n",
    "from xgboost import XGBClassifier\n",
    "\n",
    "models.append(('KNN', KNeighborsClassifier(leaf_size = 1, metric ='euclidean', n_neighbors = 1, weights = 'uniform')))\n",
    "models.append(('DTC', DecisionTreeClassifier(criterion = 'gini', max_depth = 17, max_features = 'auto', random_state=50)))\n",
    "models.append(('RFC', RandomForestClassifier(criterion = 'gini', max_depth = 19, max_features = 'auto', n_estimators = 300, random_state=50)))\n",
    "models.append(('SVC', SVC(random_state=50,probability=True)))\n",
    "models.append(('XG Boost', XGBClassifier(objective=\"binary:logistic\", learning_rate = 0.1, max_depth = 15, n_estimators = 200, random_state=50, eval_metric=\"auc\")))\n",
    "\n",
    "model_names = ['K-Nearest Neighbors', 'Decision Tree Classifier', 'Random Forest Classifier', 'Support Vector Classifier', 'Extreme Gradient Boosting']\n",
    "\n",
    "for i, (name, model) in enumerate(models):\n",
    "    model.fit(X_train, y_train)\n",
    "    y_pred = model.predict(X_test)\n",
    "    \n",
    "    fpr, tpr, _ = roc_curve(y_test, y_pred)\n",
    "    auc = roc_auc_score(y_test, y_pred)\n",
    "\n",
    "    plt.subplot(2, 3, i+1)\n",
    "    plt.plot(fpr, tpr, label='{} - ROC Curve\\nAUC = {:.4f}'.format(name, auc))\n",
    "    plt.plot([0, 1], [0, 1], 'k--')  # Diagonal line for reference\n",
    "    plt.xlabel('False Positive Rate')\n",
    "    plt.ylabel('True Positive Rate')\n",
    "    plt.title(model_names[i])\n",
    "    plt.legend(loc='lower right')\n",
    "   \n",
    "\n",
    "plt.tight_layout()\n",
    "plt.show()"
   ]
  },
  {
   "cell_type": "code",
   "execution_count": 119,
   "id": "47bb28a6",
   "metadata": {},
   "outputs": [
    {
     "data": {
      "image/png": "[encoded data removed]",
      "text/plain": [
       "<Figure size 640x480 with 1 Axes>"
      ]
     },
     "metadata": {},
     "output_type": "display_data"
    }
   ],
   "source": [
    "import seaborn as sns\n",
    "axis = sns.barplot(x = 'Name', y = 'Accuracy', data =tr_split )\n",
    "axis.set(xlabel='Classifier Models', ylabel='Accuracy of the Model')\n",
    "for p in axis.patches:\n",
    "    height = p.get_height()\n",
    "    axis.text(p.get_x() + p.get_width()/2, height + 0.90, '{:1.4f}'.format(height), ha=\"center\") \n",
    "    \n",
    "plt.show()"
   ]
  },
  {
   "cell_type": "code",
   "execution_count": 120,
   "id": "79b1d682",
   "metadata": {},
   "outputs": [
    {
     "data": {
      "image/png": "[encoded data removed]",
      "text/plain": [
       "<Figure size 640x480 with 1 Axes>"
      ]
     },
     "metadata": {},
     "output_type": "display_data"
    }
   ],
   "source": [
    "import seaborn as sns\n",
    "axis = sns.barplot(x = 'Name', y = 'Precision', data =tr_split )\n",
    "axis.set(xlabel='Classifier Models', ylabel='Precision of the Model')\n",
    "for p in axis.patches:\n",
    "    height = p.get_height()\n",
    "    axis.text(p.get_x() + p.get_width()/2, height + 0.90, '{:1.4f}'.format(height), ha=\"center\") \n",
    "    \n",
    "plt.show()"
   ]
  },
  {
   "cell_type": "code",
   "execution_count": 121,
   "id": "625687d7",
   "metadata": {},
   "outputs": [
    {
     "data": {
      "image/png": "[encoded data removed]",
      "text/plain": [
       "<Figure size 640x480 with 1 Axes>"
      ]
     },
     "metadata": {},
     "output_type": "display_data"
    }
   ],
   "source": [
    "import seaborn as sns\n",
    "axis = sns.barplot(x = 'Name', y = 'Recall', data =tr_split )\n",
    "axis.set(xlabel='Classifier Models', ylabel='Recall of the Model')\n",
    "for p in axis.patches:\n",
    "    height = p.get_height()\n",
    "    axis.text(p.get_x() + p.get_width()/2, height + 0.90, '{:1.4f}'.format(height), ha=\"center\") \n",
    "    \n",
    "plt.show()"
   ]
  },
  {
   "cell_type": "code",
   "execution_count": 122,
   "id": "a5e764a5",
   "metadata": {},
   "outputs": [
    {
     "data": {
      "image/png": "[encoded data removed]",
      "text/plain": [
       "<Figure size 640x480 with 1 Axes>"
      ]
     },
     "metadata": {},
     "output_type": "display_data"
    }
   ],
   "source": [
    "import seaborn as sns\n",
    "axis = sns.barplot(x = 'Name', y = 'F1-Score', data =tr_split )\n",
    "axis.set(xlabel='Classifier Models', ylabel='F1-Score of the Model')\n",
    "for p in axis.patches:\n",
    "    height = p.get_height()\n",
    "    axis.text(p.get_x() + p.get_width()/2, height + 0.90, '{:1.4f}'.format(height), ha=\"center\") \n",
    "    \n",
    "plt.show()"
   ]
  },
  {
   "cell_type": "code",
   "execution_count": 123,
   "id": "ba686b13",
   "metadata": {},
   "outputs": [
    {
     "data": {
      "image/png": "[encoded data removed]",
      "text/plain": [
       "<Figure size 640x480 with 1 Axes>"
      ]
     },
     "metadata": {},
     "output_type": "display_data"
    }
   ],
   "source": [
    "import seaborn as sns\n",
    "axis = sns.barplot(x = 'Name', y = 'ROC Score', data =tr_split )\n",
    "axis.set(xlabel='Classifier Models', ylabel='ROC Score of the Model')\n",
    "for p in axis.patches:\n",
    "    height = p.get_height()\n",
    "    axis.text(p.get_x() + p.get_width()/2, height + 0.90, '{:1.4f}'.format(height), ha=\"center\") \n",
    "    \n",
    "plt.show()\n"
   ]
  },
  {
   "cell_type": "code",
   "execution_count": null,
   "id": "4836e6cf",
   "metadata": {},
   "outputs": [],
   "source": []
  }
 ],
 "metadata": {
  "colab": {
   "collapsed_sections": [
    "1f20332f",
    "04b02011",
    "f4290167",
    "a6004a97",
    "a3853f18",
    "499cdea8",
    "240c95da",
    "ce1deb3a",
    "cff5cf5b",
    "23b76a20",
    "7c528fbe",
    "6fce1fbb",
    "cc5ae134",
    "8473e37c",
    "d6fa4856",
    "78ed332e"
   ],
   "provenance": []
  },
  "kernelspec": {
   "display_name": "Python 3 (ipykernel)",
   "language": "python",
   "name": "python3"
  },
  "language_info": {
   "codemirror_mode": {
    "name": "ipython",
    "version": 3
   },
   "file_extension": ".py",
   "mimetype": "text/x-python",
   "name": "python",
   "nbconvert_exporter": "python",
   "pygments_lexer": "ipython3",
   "version": "3.9.12"
  }
 },
 "nbformat": 4,
 "nbformat_minor": 5
}
